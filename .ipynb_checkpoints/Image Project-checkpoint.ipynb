{
 "cells": [
  {
   "cell_type": "code",
   "execution_count": 163,
   "id": "b8734cce",
   "metadata": {},
   "outputs": [],
   "source": [
    "import numpy as np\n",
    "import pandas as pd\n",
    "import cv2\n",
    "import os\n",
    "import glob\n",
    "import matplotlib.pyplot as plt\n",
    "import pickle\n",
    "import sys\n",
    "\n",
    "\n",
    "np.set_printoptions(threshold=sys.maxsize)\n",
    "\n",
    "%matplotlib inline"
   ]
  },
  {
   "cell_type": "code",
   "execution_count": 164,
   "id": "0c6bf79b",
   "metadata": {},
   "outputs": [],
   "source": [
    "# def binn(img):\n",
    "#     gray = cv2.cvtColor(img, cv2.COLOR_BGR2GRAY)\n",
    "\n",
    "#     #(thresh, im_bw) = cv2.threshold(gray, 255, 255, cv2.THRESH_BINARY | cv2.THRESH_OTSU)\n",
    "#     gray = cv2.equalizeHist(gray)\n",
    "#     #print(gray)\n",
    "#     # closing = cv2.morphologyEx(img, cv2.MORPH_CLOSE, kernel)\n",
    "\n",
    "#     im_bw = cv2.threshold(gray, 150, 255, cv2.THRESH_BINARY)[1]\n",
    "\n",
    "#     plt.imshow(im_bw , cmap =\"gray\")\n",
    "\n",
    "\n",
    "# img = cv2.imread(\"test_images/one.png\")\n",
    "# binn(img)"
   ]
  },
  {
   "cell_type": "code",
   "execution_count": 165,
   "id": "a78f5de1",
   "metadata": {},
   "outputs": [],
   "source": [
    "def undistort_img():\n",
    "    # Prepare object points 0,0,0 ... 8,5,0\n",
    "    obj_pts = np.zeros((6*9,3), np.float32)\n",
    "    obj_pts[:,:2] = np.mgrid[0:9, 0:6].T.reshape(-1,2)\n",
    "\n",
    "    # Stores all object points & img points from all images\n",
    "    objpoints = []\n",
    "    imgpoints = []\n",
    "\n",
    "    # Get directory for all calibration images\n",
    "    images = glob.glob('camera_cal/*.jpg')\n",
    "\n",
    "    for indx, fname in enumerate(images):\n",
    "        img = cv2.imread(fname)\n",
    "        gray = cv2.cvtColor(img, cv2.COLOR_BGR2GRAY)\n",
    "\n",
    "        ret, corners = cv2.findChessboardCorners(gray, (9,6), None)\n",
    "\n",
    "        if ret == True:\n",
    "            objpoints.append(obj_pts)\n",
    "            imgpoints.append(corners)\n",
    "    # Test undistortion on img\n",
    "    img_size = (img.shape[1], img.shape[0])\n",
    "\n",
    "    # Calibrate camera\n",
    "    ret, mtx, dist, rvecs, tvecs = cv2.calibrateCamera(objpoints, imgpoints, img_size, None,None)\n",
    "\n",
    "    dst = cv2.undistort(img, mtx, dist, None, mtx)\n",
    "    # Save camera calibration for later use\n",
    "    dist_pickle = {}\n",
    "    dist_pickle['mtx'] = mtx\n",
    "    dist_pickle['dist'] = dist\n",
    "    pickle.dump( dist_pickle, open('camera_cal/cal_pickle.p', 'wb') )\n",
    "\n",
    "def undistort(img, cal_dir='camera_cal/cal_pickle.p'):\n",
    "    #cv2.imwrite('camera_cal/test_cal.jpg', dst)\n",
    "    with open(cal_dir, mode='rb') as f:\n",
    "        file = pickle.load(f)\n",
    "    mtx = file['mtx']\n",
    "    dist = file['dist']\n",
    "    dst = cv2.undistort(img, mtx, dist, None, mtx)\n",
    "    \n",
    "    return dst"
   ]
  },
  {
   "cell_type": "code",
   "execution_count": 166,
   "id": "716fb746",
   "metadata": {},
   "outputs": [],
   "source": [
    "def abs_sobel_thresh(gray, orient='x', thresh=(0, 255)):\n",
    "    # Apply x or y gradient with the OpenCV Sobel() function\n",
    "    # and take the absolute value\n",
    "    if orient == 'x':\n",
    "        abs_sobel = np.absolute(cv2.Sobel(gray, cv2.CV_64F, 1, 0))\n",
    "    if orient == 'y':\n",
    "        abs_sobel = np.absolute(cv2.Sobel(gray, cv2.CV_64F, 0, 1))\n",
    "    # Rescale back to 8 bit integer\n",
    "    scaled_sobel = np.uint8(255*abs_sobel/np.max(abs_sobel))\n",
    "    # Create a copy and apply the threshold\n",
    "    binary_output = np.zeros_like(scaled_sobel)\n",
    "    binary_output[(scaled_sobel >= thresh[0]) & (scaled_sobel <= thresh[1])] = 1\n",
    "    sobel_mask = binary_output\n",
    "    # Return the result\n",
    "    return sobel_mask"
   ]
  },
  {
   "cell_type": "code",
   "execution_count": 167,
   "id": "95cd4f4b",
   "metadata": {},
   "outputs": [],
   "source": [
    "def dir_threshold(gray, sobel_kernel=3, thresh=(0, np.pi/2)):\n",
    "    # Grayscale\n",
    "    #gray = cv2.cvtColor(img, cv2.COLOR_RGB2GRAY)\n",
    "    # Calculate the x and y gradients\n",
    "    sobelx = cv2.Sobel(gray, cv2.CV_64F, 1, 0, ksize=sobel_kernel)\n",
    "    sobely = cv2.Sobel(gray, cv2.CV_64F, 0, 1, ksize=sobel_kernel)\n",
    "    # Take the absolute value of the gradient direction, \n",
    "    # apply a threshold, and create a binary image result\n",
    "    absgraddir = np.arctan2(np.absolute(sobely), np.absolute(sobelx))\n",
    "    binary_output =  np.zeros_like(absgraddir)\n",
    "    binary_output[(absgraddir >= thresh[0]) & (absgraddir <= thresh[1])] = 1\n",
    "    dir_mask = binary_output\n",
    "    # Return the binary image\n",
    "    return dir_mask"
   ]
  },
  {
   "cell_type": "code",
   "execution_count": 168,
   "id": "3f18fcdc",
   "metadata": {},
   "outputs": [],
   "source": [
    "def combine_thresh(img, s_thresh=(100, 255), l_thresh=(120, 255)):\n",
    "    \n",
    "    # Convert to grayscale\n",
    "    gray = cv2.cvtColor(img, cv2.COLOR_RGB2GRAY)\n",
    "    height, width = gray.shape\n",
    "    \n",
    "    #combined = ((grad_x == 1)  & (grad_y == 1) & (mag_binary == 1) & (dir_binary == 1))\n",
    "    grad_x = abs_sobel_thresh(gray, 'x', thresh=(10, 200))\n",
    "    dir_binary = dir_threshold(gray, thresh=(np.pi/6, np.pi/2))\n",
    "    combined = ((grad_x == 1) & (dir_binary == 1))\n",
    "    \n",
    "    # R & G thresholds so that yellow lanes are detected well.\n",
    "    color_threshold = 150\n",
    "    R = img[:,:,0]\n",
    "    G = img[:,:,1]\n",
    "    color_combined = np.zeros_like(R)\n",
    "    r_g_condition = (R > color_threshold) & (G > color_threshold)\n",
    "    \n",
    "    # Apply color threshold for better detection of yello and white lines in all environmental condition\n",
    "    hls = cv2.cvtColor(img, cv2.COLOR_RGB2HLS)\n",
    "    # Select S channel because it is usually the best performant\n",
    "    # for this task. R channel also performs similarly.\n",
    "    s_channel = hls[:,:,2] \n",
    "    l_channel = hls[:,:,1]\n",
    "    \n",
    "     # S channel performs well for detecting bright yellow and white lanes\n",
    "    s_condition = (s_channel > s_thresh[0]) & (s_channel <= s_thresh[1])\n",
    "    \n",
    "    # We put a threshold on the L channel to avoid pixels which have shadows and as a result darker.   \n",
    "    l_condition = (l_channel > l_thresh[0]) & (l_channel <= l_thresh[1])\n",
    "    \n",
    "    # combine all the thresholds\n",
    "    # A pixel should either be a yellowish or whiteish\n",
    "    # And it should also have a gradient, as per our thresholds\n",
    "    color_combined[(r_g_condition & l_condition) & (s_condition | combined)] = 1\n",
    "    \n",
    "    #binary_output[(s_channel >= thresh[0]) & (s_channel <= thresh[1])] = 1\n",
    "    # apply the region of interest mask\n",
    "    mask = np.zeros_like(color_combined)\n",
    "#     np.array([[int(0), int(y)], [int(x), int(y)], [int(0.55*x), int(0.6*y)], [int(0.45*x), int(0.6*y)]]\n",
    "    region_of_interest_vertices = np.array([[0,height-1], [width/2, int(0.55*height)], [width-1, height-1]], dtype=np.int32)\n",
    "    region_of_disinterest_vertices = np.array([[0.45*width,height-1], [width/2, int(0.55*height)], [width-1-0.45*width, height-1]], dtype=np.int32)\n",
    "#moraba3#    region_of_interest_vertices = np.array([[0,height-1],[width-1, height-1], [int(0.55*width), int(0.6*height)],[int(0.45*width), int(0.6*height)] ], dtype=np.int32)\n",
    "#     region_of_interest_vertices = np.array([[150,height-1],[1200, height-1], [int(0.55*width), int(0.7*height)],[int(0.45*width), int(0.7*height)] ], dtype=np.int32)\n",
    "\n",
    "    cv2.fillPoly(mask, [region_of_interest_vertices], 1)\n",
    "    cv2.fillPoly(mask, [region_of_disinterest_vertices], 0)\n",
    "\n",
    "    thresholded = cv2.bitwise_and(color_combined, mask)\n",
    "\n",
    "    return thresholded"
   ]
  },
  {
   "cell_type": "code",
   "execution_count": 169,
   "id": "a8a4411a",
   "metadata": {},
   "outputs": [],
   "source": [
    "def thresholding(img):\n",
    "\n",
    "    thresholded = combine_thresh(img,s_thresh=(100, 255), l_thresh=(120, 255))\n",
    "    return thresholded"
   ]
  },
  {
   "cell_type": "code",
   "execution_count": 170,
   "id": "f9606310",
   "metadata": {},
   "outputs": [],
   "source": [
    "def perspective_warp(img, \n",
    "                     dst_size=(1280,720),\n",
    "                     src=np.float32([(0.38,0.7),(0.63,0.7),(0.1,1),(1,1)]),\n",
    "                     dst=np.float32([(0,0), (1, 0), (0,1), (1,1)])):\n",
    "    img_size = np.float32([(img.shape[1],img.shape[0])])\n",
    "    src = src* img_size\n",
    "    # For destination points, I'm arbitrarily choosing some points to be\n",
    "    # a nice fit for displaying our warped result \n",
    "    # again, not exact, but close enough for our purposes\n",
    "    dst = dst * np.float32(dst_size)\n",
    "    # Given src and dst points, calculate the perspective transform matrix\n",
    "    M = cv2.getPerspectiveTransform(src, dst)\n",
    "    M_Inv = cv2.getPerspectiveTransform(dst, src)\n",
    "    # Warp the image using OpenCV warpPerspective()\n",
    "    warped = cv2.warpPerspective(img, M, dst_size)\n",
    "    return warped"
   ]
  },
  {
   "cell_type": "code",
   "execution_count": 171,
   "id": "f279be6f",
   "metadata": {},
   "outputs": [],
   "source": [
    "def inv_perspective_warp(img, \n",
    "                     dst_size=(1280,720),\n",
    "                     src=np.float32([(0,0), (1, 0), (0,1), (1,1)]),\n",
    "                     dst=np.float32([(0.38,0.7),(0.63,0.7),(0.1,1),(1,1)])):\n",
    "    img_size = np.float32([(img.shape[1],img.shape[0])])\n",
    "    src = src* img_size\n",
    "    # For destination points, I'm arbitrarily choosing some points to be\n",
    "    # a nice fit for displaying our warped result \n",
    "    # again, not exact, but close enough for our purposes\n",
    "    dst = dst * np.float32(dst_size)\n",
    "    # Given src and dst points, calculate the perspective transform matrix\n",
    "    M = cv2.getPerspectiveTransform(src, dst)\n",
    "    # Warp the image using OpenCV warpPerspective()\n",
    "    warped = cv2.warpPerspective(img, M, dst_size)\n",
    "    return warped"
   ]
  },
  {
   "cell_type": "code",
   "execution_count": 172,
   "id": "ccbbe858",
   "metadata": {},
   "outputs": [],
   "source": [
    "def get_hist(img):\n",
    "    hist = np.sum(img[img.shape[0]//2:,:], axis=0)\n",
    "    return hist"
   ]
  },
  {
   "cell_type": "code",
   "execution_count": 173,
   "id": "2ebe13ec",
   "metadata": {},
   "outputs": [],
   "source": [
    "left_a, left_b, left_c = [],[],[]\n",
    "right_a, right_b, right_c = [],[],[]\n",
    "\n",
    "def sliding_window(img, nwindows=9, margin=150, minpix = 1, draw_windows=True):\n",
    "    global left_a, left_b, left_c,right_a, right_b, right_c\n",
    "    left_fit_= np.empty(3)\n",
    "    right_fit_ = np.empty(3)\n",
    "    \n",
    "    out_img = np.dstack((img, img, img))*255\n",
    "\n",
    "    histogram = get_hist(img)\n",
    "    # find peaks of left and right halves\n",
    "    midpoint = int(histogram.shape[0]/2)\n",
    "    leftx_base = np.argmax(histogram[:midpoint])\n",
    "    rightx_base = np.argmax(histogram[midpoint:]) + midpoint\n",
    "    \n",
    "    \n",
    "    # Set height of windows\n",
    "    window_height = np.int(img.shape[0]/nwindows)\n",
    "    # Identify the x and y positions of all nonzero pixels in the image\n",
    "    nonzero = img.nonzero()\n",
    "    \n",
    "    nonzeroy = np.array(nonzero[0])\n",
    "    nonzerox = np.array(nonzero[1])\n",
    "    # Current positions to be updated for each window\n",
    "    leftx_current = leftx_base\n",
    "    rightx_current = rightx_base\n",
    "    \n",
    "    \n",
    "    # Create empty lists to receive left and right lane pixel indices\n",
    "    left_lane_inds = []\n",
    "    right_lane_inds = []\n",
    "\n",
    "    # Step through the windows one by one\n",
    "    for window in range(nwindows):\n",
    "        # Identify window boundaries in x and y (and right and left)\n",
    "        win_y_low = img.shape[0] - (window+1)*window_height\n",
    "        win_y_high = img.shape[0] - window*window_height\n",
    "        win_xleft_low = leftx_current - margin\n",
    "        win_xleft_high = leftx_current + margin\n",
    "        win_xright_low = rightx_current - margin\n",
    "        win_xright_high = rightx_current + margin\n",
    "        # Draw the windows on the visualization image\n",
    "        if draw_windows == True:\n",
    "            cv2.rectangle(out_img,(win_xleft_low,win_y_low),(win_xleft_high,win_y_high),\n",
    "            (100,255,255), 3) \n",
    "            cv2.rectangle(out_img,(win_xright_low,win_y_low),(win_xright_high,win_y_high),\n",
    "            (100,255,255), 3) \n",
    "        # Identify the nonzero pixels in x and y within the window\n",
    "        good_left_inds = ((nonzeroy >= win_y_low) & (nonzeroy < win_y_high) & \n",
    "        (nonzerox >= win_xleft_low) &  (nonzerox < win_xleft_high)).nonzero()[0]\n",
    "        good_right_inds = ((nonzeroy >= win_y_low) & (nonzeroy < win_y_high) & \n",
    "        (nonzerox >= win_xright_low) &  (nonzerox < win_xright_high)).nonzero()[0]\n",
    "        # Append these indices to the lists\n",
    "        left_lane_inds.append(good_left_inds)\n",
    "        right_lane_inds.append(good_right_inds)\n",
    "        # If you found > minpix pixels, recenter next window on their mean position\n",
    "        if len(good_left_inds)  > minpix:\n",
    "            leftx_current = np.int(np.mean(nonzerox[good_left_inds]))\n",
    "        if len(good_right_inds)  > minpix:        \n",
    "            rightx_current = np.int(np.mean(nonzerox[good_right_inds]))\n",
    "\n",
    "    # Concatenate the arrays of indices\n",
    "    left_lane_inds = np.concatenate(left_lane_inds)\n",
    "    right_lane_inds = np.concatenate(right_lane_inds)\n",
    "\n",
    "    # Extract left and right line pixel positions\n",
    "    leftx = nonzerox[left_lane_inds]\n",
    "    lefty = nonzeroy[left_lane_inds]\n",
    "    rightx = nonzerox[right_lane_inds]\n",
    "    righty = nonzeroy[right_lane_inds]\n",
    "    print (lefty.size)\n",
    "    print (leftx.size)\n",
    "    \n",
    "    # Fit a second order polynomial to each\n",
    "    if(left_lane_inds.size > 1600) and (right_lane_inds.size > 1600):\n",
    "        left_fit = np.polyfit(lefty, leftx, 2)\n",
    "        left_a.append(left_fit[0])\n",
    "        left_b.append(left_fit[1])\n",
    "        left_c.append(left_fit[2])\n",
    "        \n",
    "        right_fit = np.polyfit(righty, rightx, 2)\n",
    "        right_a.append(right_fit[0])\n",
    "        right_b.append(right_fit[1])\n",
    "        right_c.append(right_fit[2])\n",
    "\n",
    "    else:\n",
    "        left_a.append(left_a[-15])\n",
    "        left_b.append(left_b[-15])\n",
    "        left_c.append(left_c[-15])\n",
    "        right_a.append(right_a[-15])\n",
    "        right_b.append(right_b[-15])\n",
    "        right_c.append(right_c[-15])\n",
    "\n",
    "    \n",
    "    left_fit_[0] = np.mean(left_a[-10:])\n",
    "    left_fit_[1] = np.mean(left_b[-10:])\n",
    "    left_fit_[2] = np.mean(left_c[-10:])\n",
    "    \n",
    "    right_fit_[0] = np.mean(right_a[-10:])\n",
    "    right_fit_[1] = np.mean(right_b[-10:])\n",
    "    right_fit_[2] = np.mean(right_c[-10:])\n",
    "    \n",
    "    # Generate x and y values for plotting\n",
    "    ploty = np.linspace(0, img.shape[0]-1, img.shape[0] )\n",
    "    left_fitx = left_fit_[0]*ploty**2 + left_fit_[1]*ploty + left_fit_[2]\n",
    "    right_fitx = right_fit_[0]*ploty**2 + right_fit_[1]*ploty + right_fit_[2]\n",
    "\n",
    "    out_img[nonzeroy[left_lane_inds], nonzerox[left_lane_inds]] = [255, 0, 100]\n",
    "    out_img[nonzeroy[right_lane_inds], nonzerox[right_lane_inds]] = [0, 100, 255]\n",
    "    \n",
    "    return out_img, (left_fitx, right_fitx), (left_fit_, right_fit_), ploty"
   ]
  },
  {
   "cell_type": "code",
   "execution_count": 174,
   "id": "d9774ffa",
   "metadata": {},
   "outputs": [],
   "source": [
    "def get_curve(img, leftx, rightx):\n",
    "    ploty = np.linspace(0, img.shape[0]-1, img.shape[0])\n",
    "    y_eval = np.max(ploty)\n",
    "    ym_per_pix = 30.5/720 # meters per pixel in y dimension\n",
    "    xm_per_pix = 3.7/720 # meters per pixel in x dimension\n",
    "\n",
    "    # Fit new polynomials to x,y in world space\n",
    "    left_fit_cr = np.polyfit(ploty*ym_per_pix, leftx*xm_per_pix, 2)\n",
    "    right_fit_cr = np.polyfit(ploty*ym_per_pix, rightx*xm_per_pix, 2)\n",
    "    # Calculate the new radii of curvature \n",
    "    left_curverad = ((1 + (2*left_fit_cr[0]*y_eval*ym_per_pix + left_fit_cr[1])**2)**1.5) / np.absolute(2*left_fit_cr[0])\n",
    "    right_curverad = ((1 + (2*right_fit_cr[0]*y_eval*ym_per_pix + right_fit_cr[1])**2)**1.5) / np.absolute(2*right_fit_cr[0])\n",
    "\n",
    "    car_pos = img.shape[1]/2\n",
    "    \n",
    "    l_fit_x_int = left_fit_cr[0]*img.shape[0]**2 + left_fit_cr[1]*img.shape[0] + left_fit_cr[2]\n",
    "    r_fit_x_int = right_fit_cr[0]*img.shape[0]**2 + right_fit_cr[1]*img.shape[0] + right_fit_cr[2]\n",
    "    \n",
    "    lane_center_position = (r_fit_x_int + l_fit_x_int) /2\n",
    "    center = (car_pos - lane_center_position) * xm_per_pix / 10\n",
    "    # Now our radius of curvature is in meters\n",
    "    return (left_curverad, right_curverad, center)"
   ]
  },
  {
   "cell_type": "code",
   "execution_count": 175,
   "id": "eddadb0c",
   "metadata": {},
   "outputs": [],
   "source": [
    "def draw_lanes(img, left_fit, right_fit):\n",
    "    ploty = np.linspace(0, img.shape[0]-1, img.shape[0])\n",
    "    color_img = np.zeros_like(img)\n",
    "    \n",
    "    left = np.array([np.transpose(np.vstack([left_fit, ploty]))])\n",
    "    right = np.array([np.flipud(np.transpose(np.vstack([right_fit, ploty])))])\n",
    "    points = np.hstack((left, right))\n",
    "    \n",
    "    cv2.fillPoly(color_img, np.int_(points), (0,200,255))\n",
    "    inv_perspective = inv_perspective_warp(color_img)\n",
    "    inv_perspective = cv2.addWeighted(img, 1, inv_perspective, 0.7, 0)\n",
    "    return inv_perspective\n"
   ]
  },
  {
   "cell_type": "code",
   "execution_count": 176,
   "id": "deaff23f",
   "metadata": {},
   "outputs": [],
   "source": [
    "def full_pipeline(img):\n",
    "#     undist_img = undistort(img)\n",
    "    undist_img = img\n",
    "    th_img = thresholding(undist_img)\n",
    "\n",
    "    pew_img = perspective_warp(th_img)\n",
    "\n",
    "    sw_img, curves, lanes, ploty = sliding_window(pew_img, draw_windows=True)\n",
    "\n",
    "    curverad =get_curve(img, curves[0], curves[1])\n",
    "    lane_curve = np.mean([curverad[0], curverad[1]])\n",
    "    img = draw_lanes(img, curves[0], curves[1])\n",
    "    \n",
    "    font = cv2.FONT_HERSHEY_SIMPLEX\n",
    "    fontColor = (0, 0, 0)\n",
    "    fontSize=0.5\n",
    "    cv2.putText(img, 'Lane Curvature: {:.0f} m'.format(lane_curve), (570, 620), font, fontSize, fontColor, 2)\n",
    "    cv2.putText(img, 'Vehicle offset: {:.4f} m'.format(curverad[2]), (570, 650), font, fontSize, fontColor, 2)\n",
    "    \n",
    "    th_img_rgb = np.dstack((th_img,th_img,th_img))*255\n",
    "    \n",
    "    pew_img_rgb = np.dstack((pew_img,pew_img,pew_img))*255\n",
    "    \n",
    "    \n",
    "    \n",
    "    img_row1 = np.concatenate((th_img_rgb, pew_img_rgb),axis = 0)\n",
    "\n",
    "    \n",
    "    img_row2 = np.concatenate((sw_img, img),axis = 0)\n",
    "\n",
    "    \n",
    "    final_img = np.concatenate((img_row1, img_row2),axis = 1)\n",
    "    final_img = cv2.resize(final_img,(img.shape[1],img.shape[0]))\n",
    "    \n",
    "    return final_img"
   ]
  },
  {
   "cell_type": "code",
   "execution_count": 177,
   "id": "d0d46039",
   "metadata": {},
   "outputs": [],
   "source": [
    "# img=cv2.imread(\"test_images/straight_lines1.jpg\")\n",
    "# left_a=[]\n",
    "# left_b=[]\n",
    "# left_c=[]\n",
    "# right_a=[]\n",
    "# right_b=[]\n",
    "# right_c=[]\n",
    "# img = full_pipeline(img)"
   ]
  },
  {
   "cell_type": "code",
   "execution_count": 178,
   "id": "ac2d754d",
   "metadata": {},
   "outputs": [
    {
     "name": "stderr",
     "output_type": "stream",
     "text": [
      "\n",
      "\n",
      "\u001b[A\u001b[A                                                                                                                 \n",
      "\n",
      "\n",
      "\n",
      "\u001b[A\u001b[A\u001b[A\u001b[A                                                                                                           \n",
      "                                                                                                                       \n",
      "\n",
      "\n",
      "                                                                                                                       "
     ]
    },
    {
     "name": "stdout",
     "output_type": "stream",
     "text": [
      "3149\n",
      "3149\n"
     ]
    },
    {
     "name": "stderr",
     "output_type": "stream",
     "text": [
      "\u001b[A\u001b[A\u001b[A\n",
      "\n",
      "t:   4%|██▍                                                                 | 11/300 [22:42<04:15,  1.13it/s, now=None]\u001b[A\u001b[A\n",
      "\n",
      "\n",
      "\n",
      "t:   1%|▉                                                                    | 4/300 [14:04<03:20,  1.48it/s, now=None]\u001b[A\u001b[A\u001b[A\u001b[A\n",
      "t:   4%|██▍                                                                 | 11/300 [25:45<03:19,  1.45it/s, now=None]\u001b[A\n",
      "\n",
      "\n",
      "t:   1%|▉                                                                    | 4/300 [14:43<03:41,  1.34it/s, now=None]\u001b[A\u001b[A\u001b[A\n",
      "\n",
      "\u001b[A\u001b[A                                                                                                                 \n",
      "\n",
      "\n",
      "\n",
      "\u001b[A\u001b[A\u001b[A\u001b[A                                                                                                           \n",
      "                                                                                                                       \n",
      "\n",
      "\n",
      "\u001b[A\u001b[A\u001b[A                                                                                                              \n",
      "\n",
      "t:   4%|██▍                                                                 | 11/300 [22:42<04:15,  1.13it/s, now=None]\u001b[A\u001b[A\n",
      "\n",
      "\n",
      "\n",
      "t:   1%|▉                                                                    | 4/300 [14:04<03:20,  1.48it/s, now=None]\u001b[A\u001b[A\u001b[A\u001b[A\n",
      "t:   4%|██▍                                                                 | 11/300 [25:45<03:19,  1.45it/s, now=None]\u001b[A\n",
      "\n",
      "\n"
     ]
    },
    {
     "name": "stdout",
     "output_type": "stream",
     "text": [
      "Moviepy - Building video ./output/challenge_output_1.mp4.\n",
      "Moviepy - Writing video ./output/challenge_output_1.mp4\n",
      "\n"
     ]
    },
    {
     "name": "stderr",
     "output_type": "stream",
     "text": [
      "t:   1%|▉                                                                    | 4/300 [14:43<03:41,  1.34it/s, now=None]\u001b[A\u001b[A\u001b[A\n",
      "\n",
      "\n",
      "\n",
      "\n",
      "t:   0%|                                                                             | 0/300 [00:00<?, ?it/s, now=None]\u001b[A\u001b[A\u001b[A\u001b[A\u001b[A\n",
      "\n",
      "\n",
      "\n",
      "\n",
      "t:   1%|▍                                                                    | 2/300 [00:00<02:23,  2.07it/s, now=None]\u001b[A\u001b[A\u001b[A\u001b[A\u001b[A"
     ]
    },
    {
     "name": "stdout",
     "output_type": "stream",
     "text": [
      "3149\n",
      "3149\n",
      "3139\n",
      "3139\n"
     ]
    },
    {
     "name": "stderr",
     "output_type": "stream",
     "text": [
      "\n",
      "\n",
      "\n",
      "\n",
      "\n",
      "t:   1%|▋                                                                    | 3/300 [00:01<03:22,  1.47it/s, now=None]\u001b[A\u001b[A\u001b[A\u001b[A\u001b[A\n",
      "\n",
      "\n",
      "\n",
      "\n"
     ]
    },
    {
     "name": "stdout",
     "output_type": "stream",
     "text": [
      "3098\n",
      "3098\n"
     ]
    },
    {
     "name": "stderr",
     "output_type": "stream",
     "text": [
      "t:   1%|▉                                                                    | 4/300 [00:03<04:09,  1.18it/s, now=None]\u001b[A\u001b[A\u001b[A\u001b[A\u001b[A"
     ]
    },
    {
     "name": "stdout",
     "output_type": "stream",
     "text": [
      "2681\n",
      "2681\n"
     ]
    },
    {
     "name": "stderr",
     "output_type": "stream",
     "text": [
      "\n",
      "\n",
      "\n",
      "\n",
      "\n",
      "t:   2%|█▏                                                                   | 5/300 [00:04<04:23,  1.12it/s, now=None]\u001b[A\u001b[A\u001b[A\u001b[A\u001b[A"
     ]
    },
    {
     "name": "stdout",
     "output_type": "stream",
     "text": [
      "2574\n",
      "2574\n"
     ]
    },
    {
     "name": "stderr",
     "output_type": "stream",
     "text": [
      "\n",
      "\n",
      "\n",
      "\n",
      "\n",
      "t:   2%|█▍                                                                   | 6/300 [00:04<04:21,  1.13it/s, now=None]\u001b[A\u001b[A\u001b[A\u001b[A\u001b[A"
     ]
    },
    {
     "name": "stdout",
     "output_type": "stream",
     "text": [
      "2593\n",
      "2593\n"
     ]
    },
    {
     "name": "stderr",
     "output_type": "stream",
     "text": [
      "\n",
      "\n",
      "\n",
      "\n",
      "\n",
      "t:   2%|█▌                                                                   | 7/300 [00:05<04:31,  1.08it/s, now=None]\u001b[A\u001b[A\u001b[A\u001b[A\u001b[A\n",
      "\n",
      "\n",
      "\n",
      "\n",
      "t:   3%|█▊                                                                   | 8/300 [00:06<04:17,  1.13it/s, now=None]\u001b[A\u001b[A\u001b[A\u001b[A\u001b[A"
     ]
    },
    {
     "name": "stdout",
     "output_type": "stream",
     "text": [
      "2638\n",
      "2638\n",
      "2417\n",
      "2417\n"
     ]
    },
    {
     "name": "stderr",
     "output_type": "stream",
     "text": [
      "\n",
      "\n",
      "\n",
      "\n",
      "\n",
      "t:   3%|██                                                                   | 9/300 [00:07<04:00,  1.21it/s, now=None]\u001b[A\u001b[A\u001b[A\u001b[A\u001b[A\n",
      "\n",
      "\n",
      "\n",
      "\n",
      "t:   3%|██▎                                                                 | 10/300 [00:08<03:59,  1.21it/s, now=None]\u001b[A\u001b[A\u001b[A\u001b[A\u001b[A"
     ]
    },
    {
     "name": "stdout",
     "output_type": "stream",
     "text": [
      "2332\n",
      "2332\n"
     ]
    },
    {
     "name": "stderr",
     "output_type": "stream",
     "text": [
      "\n",
      "\n",
      "\n",
      "\n",
      "\n",
      "t:   4%|██▍                                                                 | 11/300 [00:08<03:44,  1.29it/s, now=None]\u001b[A\u001b[A\u001b[A\u001b[A\u001b[A"
     ]
    },
    {
     "name": "stdout",
     "output_type": "stream",
     "text": [
      "2034\n",
      "2034\n"
     ]
    },
    {
     "name": "stderr",
     "output_type": "stream",
     "text": [
      "\n",
      "\n",
      "\n",
      "\n",
      "\n",
      "t:   4%|██▋                                                                 | 12/300 [00:09<03:30,  1.37it/s, now=None]"
     ]
    },
    {
     "name": "stdout",
     "output_type": "stream",
     "text": [
      "1916\n",
      "1916\n"
     ]
    },
    {
     "name": "stderr",
     "output_type": "stream",
     "text": [
      "\u001b[A\u001b[A\u001b[A\u001b[A\u001b[A\n",
      "\n",
      "\n",
      "\n",
      "\n",
      "t:   4%|██▉                                                                 | 13/300 [00:10<03:22,  1.42it/s, now=None]\u001b[A\u001b[A\u001b[A\u001b[A\u001b[A"
     ]
    },
    {
     "name": "stdout",
     "output_type": "stream",
     "text": [
      "1927\n",
      "1927\n"
     ]
    },
    {
     "name": "stderr",
     "output_type": "stream",
     "text": [
      "\n",
      "\n",
      "\n",
      "\n",
      "\n",
      "t:   5%|███▏                                                                | 14/300 [00:10<03:22,  1.41it/s, now=None]\u001b[A\u001b[A\u001b[A\u001b[A\u001b[A"
     ]
    },
    {
     "name": "stdout",
     "output_type": "stream",
     "text": [
      "1758\n",
      "1758\n"
     ]
    },
    {
     "name": "stderr",
     "output_type": "stream",
     "text": [
      "\n",
      "\n",
      "\n",
      "\n",
      "\n",
      "t:   5%|███▍                                                                | 15/300 [00:11<03:19,  1.43it/s, now=None]\u001b[A\u001b[A\u001b[A\u001b[A\u001b[A"
     ]
    },
    {
     "name": "stdout",
     "output_type": "stream",
     "text": [
      "1917\n",
      "1917\n"
     ]
    },
    {
     "name": "stderr",
     "output_type": "stream",
     "text": [
      "\n",
      "\n",
      "\n",
      "\n",
      "\n"
     ]
    },
    {
     "name": "stdout",
     "output_type": "stream",
     "text": [
      "2038\n",
      "2038\n"
     ]
    },
    {
     "name": "stderr",
     "output_type": "stream",
     "text": [
      "t:   5%|███▋                                                                | 16/300 [00:12<03:18,  1.43it/s, now=None]\u001b[A\u001b[A\u001b[A\u001b[A\u001b[A"
     ]
    },
    {
     "name": "stdout",
     "output_type": "stream",
     "text": [
      "2242\n",
      "2242\n"
     ]
    },
    {
     "name": "stderr",
     "output_type": "stream",
     "text": [
      "\n",
      "\n",
      "\n",
      "\n",
      "\n",
      "t:   6%|███▊                                                                | 17/300 [00:13<03:46,  1.25it/s, now=None]\u001b[A\u001b[A\u001b[A\u001b[A\u001b[A\n",
      "\n",
      "\n",
      "\n",
      "\n",
      "t:   6%|████                                                                | 18/300 [00:13<03:34,  1.31it/s, now=None]\u001b[A\u001b[A\u001b[A\u001b[A\u001b[A"
     ]
    },
    {
     "name": "stdout",
     "output_type": "stream",
     "text": [
      "2152\n",
      "2152\n"
     ]
    },
    {
     "name": "stderr",
     "output_type": "stream",
     "text": [
      "\n",
      "\n",
      "\n",
      "\n",
      "\n",
      "t:   6%|████▎                                                               | 19/300 [00:14<03:29,  1.34it/s, now=None]\u001b[A\u001b[A\u001b[A\u001b[A\u001b[A"
     ]
    },
    {
     "name": "stdout",
     "output_type": "stream",
     "text": [
      "2063\n",
      "2063\n",
      "2184\n",
      "2184\n"
     ]
    },
    {
     "name": "stderr",
     "output_type": "stream",
     "text": [
      "\n",
      "\n",
      "\n",
      "\n",
      "\n",
      "t:   7%|████▌                                                               | 20/300 [00:15<03:50,  1.22it/s, now=None]\u001b[A\u001b[A\u001b[A\u001b[A\u001b[A\n",
      "\n",
      "\n",
      "\n",
      "\n"
     ]
    },
    {
     "name": "stdout",
     "output_type": "stream",
     "text": [
      "1902\n",
      "1902\n"
     ]
    },
    {
     "name": "stderr",
     "output_type": "stream",
     "text": [
      "t:   7%|████▊                                                               | 21/300 [00:16<03:50,  1.21it/s, now=None]\u001b[A\u001b[A\u001b[A\u001b[A\u001b[A"
     ]
    },
    {
     "name": "stdout",
     "output_type": "stream",
     "text": [
      "1939\n",
      "1939\n"
     ]
    },
    {
     "name": "stderr",
     "output_type": "stream",
     "text": [
      "\n",
      "\n",
      "\n",
      "\n",
      "\n",
      "t:   7%|████▉                                                               | 22/300 [00:17<04:41,  1.01s/it, now=None]\u001b[A\u001b[A\u001b[A\u001b[A\u001b[A"
     ]
    },
    {
     "name": "stdout",
     "output_type": "stream",
     "text": [
      "1887\n",
      "1887\n"
     ]
    },
    {
     "name": "stderr",
     "output_type": "stream",
     "text": [
      "\n",
      "\n",
      "\n",
      "\n",
      "\n",
      "t:   8%|█████▏                                                              | 23/300 [00:19<05:42,  1.24s/it, now=None]\u001b[A\u001b[A\u001b[A\u001b[A\u001b[A"
     ]
    },
    {
     "name": "stdout",
     "output_type": "stream",
     "text": [
      "2165\n",
      "2165\n"
     ]
    },
    {
     "name": "stderr",
     "output_type": "stream",
     "text": [
      "\n",
      "\n",
      "\n",
      "\n",
      "\n",
      "t:   8%|█████▍                                                              | 24/300 [00:20<05:24,  1.18s/it, now=None]\u001b[A\u001b[A\u001b[A\u001b[A\u001b[A"
     ]
    },
    {
     "name": "stdout",
     "output_type": "stream",
     "text": [
      "2145\n",
      "2145\n"
     ]
    },
    {
     "name": "stderr",
     "output_type": "stream",
     "text": [
      "\n",
      "\n",
      "\n",
      "\n",
      "\n",
      "t:   8%|█████▋                                                              | 25/300 [00:21<05:22,  1.17s/it, now=None]\u001b[A\u001b[A\u001b[A\u001b[A\u001b[A"
     ]
    },
    {
     "name": "stdout",
     "output_type": "stream",
     "text": [
      "2438\n",
      "2438\n"
     ]
    },
    {
     "name": "stderr",
     "output_type": "stream",
     "text": [
      "\n",
      "\n",
      "\n",
      "\n",
      "\n",
      "t:   9%|█████▉                                                              | 26/300 [00:23<05:34,  1.22s/it, now=None]\u001b[A\u001b[A\u001b[A\u001b[A\u001b[A"
     ]
    },
    {
     "name": "stdout",
     "output_type": "stream",
     "text": [
      "2253\n",
      "2253\n"
     ]
    },
    {
     "name": "stderr",
     "output_type": "stream",
     "text": [
      "\n",
      "\n",
      "\n",
      "\n",
      "\n",
      "t:   9%|██████                                                              | 27/300 [00:24<05:09,  1.13s/it, now=None]\u001b[A\u001b[A\u001b[A\u001b[A\u001b[A"
     ]
    },
    {
     "name": "stdout",
     "output_type": "stream",
     "text": [
      "2524\n",
      "2524\n"
     ]
    },
    {
     "name": "stderr",
     "output_type": "stream",
     "text": [
      "\n",
      "\n",
      "\n",
      "\n",
      "\n",
      "t:   9%|██████▎                                                             | 28/300 [00:25<04:57,  1.09s/it, now=None]\u001b[A\u001b[A\u001b[A\u001b[A\u001b[A\n",
      "\n",
      "\n",
      "\n",
      "\n",
      "t:  10%|██████▌                                                             | 29/300 [00:25<04:30,  1.00it/s, now=None]\u001b[A\u001b[A\u001b[A\u001b[A\u001b[A"
     ]
    },
    {
     "name": "stdout",
     "output_type": "stream",
     "text": [
      "2338\n",
      "2338\n",
      "2278\n",
      "2278\n"
     ]
    },
    {
     "name": "stderr",
     "output_type": "stream",
     "text": [
      "\n",
      "\n",
      "\n",
      "\n",
      "\n",
      "t:  10%|██████▊                                                             | 30/300 [00:26<04:23,  1.03it/s, now=None]\u001b[A\u001b[A\u001b[A\u001b[A\u001b[A"
     ]
    },
    {
     "name": "stdout",
     "output_type": "stream",
     "text": [
      "2466\n",
      "2466\n"
     ]
    },
    {
     "name": "stderr",
     "output_type": "stream",
     "text": [
      "\n",
      "\n",
      "\n",
      "\n",
      "\n",
      "t:  10%|███████                                                             | 31/300 [00:27<04:12,  1.06it/s, now=None]\u001b[A\u001b[A\u001b[A\u001b[A\u001b[A"
     ]
    },
    {
     "name": "stdout",
     "output_type": "stream",
     "text": [
      "2647\n",
      "2647\n"
     ]
    },
    {
     "name": "stderr",
     "output_type": "stream",
     "text": [
      "\n",
      "\n",
      "\n",
      "\n",
      "\n",
      "t:  11%|███████▎                                                            | 32/300 [00:28<04:36,  1.03s/it, now=None]\u001b[A\u001b[A\u001b[A\u001b[A\u001b[A\n",
      "\n",
      "\n",
      "\n",
      "\n"
     ]
    },
    {
     "name": "stdout",
     "output_type": "stream",
     "text": [
      "2245\n",
      "2245\n"
     ]
    },
    {
     "name": "stderr",
     "output_type": "stream",
     "text": [
      "t:  11%|███████▍                                                            | 33/300 [00:29<04:21,  1.02it/s, now=None]\u001b[A\u001b[A\u001b[A\u001b[A\u001b[A\n",
      "\n",
      "\n",
      "\n",
      "\n"
     ]
    },
    {
     "name": "stdout",
     "output_type": "stream",
     "text": [
      "2262\n",
      "2262\n"
     ]
    },
    {
     "name": "stderr",
     "output_type": "stream",
     "text": [
      "t:  11%|███████▋                                                            | 34/300 [00:30<04:07,  1.07it/s, now=None]\u001b[A\u001b[A\u001b[A\u001b[A\u001b[A\n",
      "\n",
      "\n",
      "\n",
      "\n"
     ]
    },
    {
     "name": "stdout",
     "output_type": "stream",
     "text": [
      "2282\n",
      "2282\n"
     ]
    },
    {
     "name": "stderr",
     "output_type": "stream",
     "text": [
      "t:  12%|███████▉                                                            | 35/300 [00:31<04:10,  1.06it/s, now=None]\u001b[A\u001b[A\u001b[A\u001b[A\u001b[A\n",
      "\n",
      "\n",
      "\n",
      "\n"
     ]
    },
    {
     "name": "stdout",
     "output_type": "stream",
     "text": [
      "2229\n",
      "2229\n"
     ]
    },
    {
     "name": "stderr",
     "output_type": "stream",
     "text": [
      "t:  12%|████████▏                                                           | 36/300 [00:32<04:09,  1.06it/s, now=None]\u001b[A\u001b[A\u001b[A\u001b[A\u001b[A"
     ]
    },
    {
     "name": "stdout",
     "output_type": "stream",
     "text": [
      "2028\n",
      "2028\n"
     ]
    },
    {
     "name": "stderr",
     "output_type": "stream",
     "text": [
      "\n",
      "\n",
      "\n",
      "\n",
      "\n",
      "t:  12%|████████▍                                                           | 37/300 [00:33<04:02,  1.09it/s, now=None]\u001b[A\u001b[A\u001b[A\u001b[A\u001b[A\n",
      "\n",
      "\n",
      "\n",
      "\n"
     ]
    },
    {
     "name": "stdout",
     "output_type": "stream",
     "text": [
      "1975\n",
      "1975\n"
     ]
    },
    {
     "name": "stderr",
     "output_type": "stream",
     "text": [
      "t:  13%|████████▌                                                           | 38/300 [00:34<04:02,  1.08it/s, now=None]\u001b[A\u001b[A\u001b[A\u001b[A\u001b[A\n",
      "\n",
      "\n",
      "\n",
      "\n"
     ]
    },
    {
     "name": "stdout",
     "output_type": "stream",
     "text": [
      "2002\n",
      "2002\n"
     ]
    },
    {
     "name": "stderr",
     "output_type": "stream",
     "text": [
      "t:  13%|████████▊                                                           | 39/300 [00:35<03:56,  1.10it/s, now=None]\u001b[A\u001b[A\u001b[A\u001b[A\u001b[A"
     ]
    },
    {
     "name": "stdout",
     "output_type": "stream",
     "text": [
      "2051\n",
      "2051\n"
     ]
    },
    {
     "name": "stderr",
     "output_type": "stream",
     "text": [
      "\n",
      "\n",
      "\n",
      "\n",
      "\n",
      "t:  13%|█████████                                                           | 40/300 [00:36<03:53,  1.11it/s, now=None]\u001b[A\u001b[A\u001b[A\u001b[A\u001b[A\n",
      "\n",
      "\n",
      "\n",
      "\n"
     ]
    },
    {
     "name": "stdout",
     "output_type": "stream",
     "text": [
      "1928\n",
      "1928\n"
     ]
    },
    {
     "name": "stderr",
     "output_type": "stream",
     "text": [
      "t:  14%|█████████▎                                                          | 41/300 [00:36<03:49,  1.13it/s, now=None]\u001b[A\u001b[A\u001b[A\u001b[A\u001b[A"
     ]
    },
    {
     "name": "stdout",
     "output_type": "stream",
     "text": [
      "1907\n",
      "1907\n"
     ]
    },
    {
     "name": "stderr",
     "output_type": "stream",
     "text": [
      "\n",
      "\n",
      "\n",
      "\n",
      "\n",
      "t:  14%|█████████▌                                                          | 42/300 [00:37<03:52,  1.11it/s, now=None]\u001b[A\u001b[A\u001b[A\u001b[A\u001b[A\n",
      "\n",
      "\n",
      "\n",
      "\n"
     ]
    },
    {
     "name": "stdout",
     "output_type": "stream",
     "text": [
      "1907\n",
      "1907\n"
     ]
    },
    {
     "name": "stderr",
     "output_type": "stream",
     "text": [
      "t:  14%|█████████▋                                                          | 43/300 [00:38<03:48,  1.12it/s, now=None]\u001b[A\u001b[A\u001b[A\u001b[A\u001b[A"
     ]
    },
    {
     "name": "stdout",
     "output_type": "stream",
     "text": [
      "1744\n",
      "1744\n"
     ]
    },
    {
     "name": "stderr",
     "output_type": "stream",
     "text": [
      "\n",
      "\n",
      "\n",
      "\n",
      "\n",
      "t:  15%|█████████▉                                                          | 44/300 [00:39<04:03,  1.05it/s, now=None]\u001b[A\u001b[A\u001b[A\u001b[A\u001b[A"
     ]
    },
    {
     "name": "stdout",
     "output_type": "stream",
     "text": [
      "1739\n",
      "1739\n"
     ]
    },
    {
     "name": "stderr",
     "output_type": "stream",
     "text": [
      "\n",
      "\n",
      "\n",
      "\n",
      "\n",
      "t:  15%|██████████▏                                                         | 45/300 [00:40<04:09,  1.02it/s, now=None]\u001b[A\u001b[A\u001b[A\u001b[A\u001b[A\n",
      "\n",
      "\n",
      "\n",
      "\n"
     ]
    },
    {
     "name": "stdout",
     "output_type": "stream",
     "text": [
      "1792\n",
      "1792\n"
     ]
    },
    {
     "name": "stderr",
     "output_type": "stream",
     "text": [
      "t:  15%|██████████▍                                                         | 46/300 [00:41<03:59,  1.06it/s, now=None]\u001b[A\u001b[A\u001b[A\u001b[A\u001b[A"
     ]
    },
    {
     "name": "stdout",
     "output_type": "stream",
     "text": [
      "1828\n",
      "1828\n"
     ]
    },
    {
     "name": "stderr",
     "output_type": "stream",
     "text": [
      "\n",
      "\n",
      "\n",
      "\n",
      "\n",
      "t:  16%|██████████▋                                                         | 47/300 [00:42<03:53,  1.08it/s, now=None]\u001b[A\u001b[A\u001b[A\u001b[A\u001b[A"
     ]
    },
    {
     "name": "stdout",
     "output_type": "stream",
     "text": [
      "1694\n",
      "1694\n"
     ]
    },
    {
     "name": "stderr",
     "output_type": "stream",
     "text": [
      "\n",
      "\n",
      "\n",
      "\n",
      "\n",
      "t:  16%|██████████▉                                                         | 48/300 [00:43<03:47,  1.11it/s, now=None]\u001b[A\u001b[A\u001b[A\u001b[A\u001b[A\n",
      "\n",
      "\n",
      "\n",
      "\n"
     ]
    },
    {
     "name": "stdout",
     "output_type": "stream",
     "text": [
      "1525\n",
      "1525\n"
     ]
    },
    {
     "name": "stderr",
     "output_type": "stream",
     "text": [
      "t:  16%|███████████                                                         | 49/300 [00:44<03:44,  1.12it/s, now=None]\u001b[A\u001b[A\u001b[A\u001b[A\u001b[A"
     ]
    },
    {
     "name": "stdout",
     "output_type": "stream",
     "text": [
      "1529\n",
      "1529\n"
     ]
    },
    {
     "name": "stderr",
     "output_type": "stream",
     "text": [
      "\n",
      "\n",
      "\n",
      "\n",
      "\n",
      "t:  17%|███████████▎                                                        | 50/300 [00:45<03:40,  1.13it/s, now=None]\u001b[A\u001b[A\u001b[A\u001b[A\u001b[A\n",
      "\n",
      "\n",
      "\n",
      "\n"
     ]
    },
    {
     "name": "stdout",
     "output_type": "stream",
     "text": [
      "1380\n",
      "1380\n"
     ]
    },
    {
     "name": "stderr",
     "output_type": "stream",
     "text": [
      "t:  17%|███████████▌                                                        | 51/300 [00:46<03:35,  1.16it/s, now=None]\u001b[A\u001b[A\u001b[A\u001b[A\u001b[A\n",
      "\n",
      "\n",
      "\n",
      "\n"
     ]
    },
    {
     "name": "stdout",
     "output_type": "stream",
     "text": [
      "1156\n",
      "1156\n"
     ]
    },
    {
     "name": "stderr",
     "output_type": "stream",
     "text": [
      "t:  17%|███████████▊                                                        | 52/300 [00:46<03:32,  1.17it/s, now=None]\u001b[A\u001b[A\u001b[A\u001b[A\u001b[A"
     ]
    },
    {
     "name": "stdout",
     "output_type": "stream",
     "text": [
      "1067\n",
      "1067\n"
     ]
    },
    {
     "name": "stderr",
     "output_type": "stream",
     "text": [
      "\n",
      "\n",
      "\n",
      "\n",
      "\n",
      "t:  18%|████████████                                                        | 53/300 [00:47<03:32,  1.16it/s, now=None]\u001b[A\u001b[A\u001b[A\u001b[A\u001b[A\n",
      "\n",
      "\n",
      "\n",
      "\n"
     ]
    },
    {
     "name": "stdout",
     "output_type": "stream",
     "text": [
      "796\n",
      "796\n"
     ]
    },
    {
     "name": "stderr",
     "output_type": "stream",
     "text": [
      "t:  18%|████████████▏                                                       | 54/300 [00:48<03:25,  1.20it/s, now=None]\u001b[A\u001b[A\u001b[A\u001b[A\u001b[A"
     ]
    },
    {
     "name": "stdout",
     "output_type": "stream",
     "text": [
      "938\n",
      "938\n"
     ]
    },
    {
     "name": "stderr",
     "output_type": "stream",
     "text": [
      "\n",
      "\n",
      "\n",
      "\n",
      "\n",
      "t:  18%|████████████▍                                                       | 55/300 [00:49<03:26,  1.18it/s, now=None]\u001b[A\u001b[A\u001b[A\u001b[A\u001b[A\n",
      "\n",
      "\n",
      "\n",
      "\n",
      "t:  19%|████████████▋                                                       | 56/300 [00:50<03:22,  1.20it/s, now=None]\u001b[A\u001b[A\u001b[A\u001b[A\u001b[A"
     ]
    },
    {
     "name": "stdout",
     "output_type": "stream",
     "text": [
      "1184\n",
      "1184\n",
      "1227\n",
      "1227\n"
     ]
    },
    {
     "name": "stderr",
     "output_type": "stream",
     "text": [
      "\n",
      "\n",
      "\n",
      "\n",
      "\n",
      "t:  19%|████████████▉                                                       | 57/300 [00:51<03:27,  1.17it/s, now=None]\u001b[A\u001b[A\u001b[A\u001b[A\u001b[A\n",
      "\n",
      "\n",
      "\n",
      "\n"
     ]
    },
    {
     "name": "stdout",
     "output_type": "stream",
     "text": [
      "1110\n",
      "1110\n"
     ]
    },
    {
     "name": "stderr",
     "output_type": "stream",
     "text": [
      "t:  19%|█████████████▏                                                      | 58/300 [00:51<03:27,  1.17it/s, now=None]\u001b[A\u001b[A\u001b[A\u001b[A\u001b[A"
     ]
    },
    {
     "name": "stdout",
     "output_type": "stream",
     "text": [
      "1176\n",
      "1176\n"
     ]
    },
    {
     "name": "stderr",
     "output_type": "stream",
     "text": [
      "\n",
      "\n",
      "\n",
      "\n",
      "\n",
      "t:  20%|█████████████▎                                                      | 59/300 [00:52<03:32,  1.13it/s, now=None]\u001b[A\u001b[A\u001b[A\u001b[A\u001b[A"
     ]
    },
    {
     "name": "stdout",
     "output_type": "stream",
     "text": [
      "860\n",
      "860\n"
     ]
    },
    {
     "name": "stderr",
     "output_type": "stream",
     "text": [
      "\n",
      "\n",
      "\n",
      "\n",
      "\n",
      "t:  20%|█████████████▌                                                      | 60/300 [00:53<03:30,  1.14it/s, now=None]\u001b[A\u001b[A\u001b[A\u001b[A\u001b[A\n",
      "\n",
      "\n",
      "\n",
      "\n"
     ]
    },
    {
     "name": "stdout",
     "output_type": "stream",
     "text": [
      "911\n",
      "911\n"
     ]
    },
    {
     "name": "stderr",
     "output_type": "stream",
     "text": [
      "t:  20%|█████████████▊                                                      | 61/300 [00:54<03:27,  1.15it/s, now=None]\u001b[A\u001b[A\u001b[A\u001b[A\u001b[A"
     ]
    },
    {
     "name": "stdout",
     "output_type": "stream",
     "text": [
      "1097\n",
      "1097\n"
     ]
    },
    {
     "name": "stderr",
     "output_type": "stream",
     "text": [
      "\n",
      "\n",
      "\n",
      "\n",
      "\n",
      "t:  21%|██████████████                                                      | 62/300 [00:55<03:29,  1.13it/s, now=None]\u001b[A\u001b[A\u001b[A\u001b[A\u001b[A"
     ]
    },
    {
     "name": "stdout",
     "output_type": "stream",
     "text": [
      "839\n",
      "839\n"
     ]
    },
    {
     "name": "stderr",
     "output_type": "stream",
     "text": [
      "\n",
      "\n",
      "\n",
      "\n",
      "\n",
      "t:  21%|██████████████▎                                                     | 63/300 [00:56<03:29,  1.13it/s, now=None]\u001b[A\u001b[A\u001b[A\u001b[A\u001b[A\n",
      "\n",
      "\n",
      "\n",
      "\n",
      "t:  21%|██████████████▌                                                     | 64/300 [00:57<03:25,  1.15it/s, now=None]\u001b[A\u001b[A\u001b[A\u001b[A\u001b[A"
     ]
    },
    {
     "name": "stdout",
     "output_type": "stream",
     "text": [
      "637\n",
      "637\n",
      "609\n",
      "609\n"
     ]
    },
    {
     "name": "stderr",
     "output_type": "stream",
     "text": [
      "\n",
      "\n",
      "\n",
      "\n",
      "\n",
      "t:  22%|██████████████▋                                                     | 65/300 [00:58<03:26,  1.14it/s, now=None]\u001b[A\u001b[A\u001b[A\u001b[A\u001b[A\n",
      "\n",
      "\n",
      "\n",
      "\n",
      "t:  22%|██████████████▉                                                     | 66/300 [00:59<03:29,  1.11it/s, now=None]\u001b[A\u001b[A\u001b[A\u001b[A\u001b[A"
     ]
    },
    {
     "name": "stdout",
     "output_type": "stream",
     "text": [
      "644\n",
      "644\n",
      "625\n",
      "625\n"
     ]
    },
    {
     "name": "stderr",
     "output_type": "stream",
     "text": [
      "\n",
      "\n",
      "\n",
      "\n",
      "\n",
      "t:  22%|███████████████▏                                                    | 67/300 [00:59<03:23,  1.15it/s, now=None]\u001b[A\u001b[A\u001b[A\u001b[A\u001b[A\n",
      "\n",
      "\n",
      "\n",
      "\n"
     ]
    },
    {
     "name": "stdout",
     "output_type": "stream",
     "text": [
      "709\n",
      "709\n"
     ]
    },
    {
     "name": "stderr",
     "output_type": "stream",
     "text": [
      "t:  23%|███████████████▍                                                    | 68/300 [01:00<03:15,  1.18it/s, now=None]\u001b[A\u001b[A\u001b[A\u001b[A\u001b[A\n",
      "\n",
      "\n",
      "\n",
      "\n"
     ]
    },
    {
     "name": "stdout",
     "output_type": "stream",
     "text": [
      "724\n",
      "724\n"
     ]
    },
    {
     "name": "stderr",
     "output_type": "stream",
     "text": [
      "t:  23%|███████████████▋                                                    | 69/300 [01:01<03:17,  1.17it/s, now=None]\u001b[A\u001b[A\u001b[A\u001b[A\u001b[A"
     ]
    },
    {
     "name": "stdout",
     "output_type": "stream",
     "text": [
      "969\n",
      "969\n"
     ]
    },
    {
     "name": "stderr",
     "output_type": "stream",
     "text": [
      "\n",
      "\n",
      "\n",
      "\n",
      "\n",
      "t:  23%|███████████████▊                                                    | 70/300 [01:02<03:17,  1.16it/s, now=None]\u001b[A\u001b[A\u001b[A\u001b[A\u001b[A"
     ]
    },
    {
     "name": "stdout",
     "output_type": "stream",
     "text": [
      "1147\n",
      "1147\n"
     ]
    },
    {
     "name": "stderr",
     "output_type": "stream",
     "text": [
      "\n",
      "\n",
      "\n",
      "\n",
      "\n",
      "t:  24%|████████████████                                                    | 71/300 [01:03<03:20,  1.14it/s, now=None]\u001b[A\u001b[A\u001b[A\u001b[A\u001b[A"
     ]
    },
    {
     "name": "stdout",
     "output_type": "stream",
     "text": [
      "1315\n",
      "1315\n"
     ]
    },
    {
     "name": "stderr",
     "output_type": "stream",
     "text": [
      "\n",
      "\n",
      "\n",
      "\n",
      "\n",
      "t:  24%|████████████████▎                                                   | 72/300 [01:04<03:34,  1.06it/s, now=None]\u001b[A\u001b[A\u001b[A\u001b[A\u001b[A\n",
      "\n",
      "\n",
      "\n",
      "\n"
     ]
    },
    {
     "name": "stdout",
     "output_type": "stream",
     "text": [
      "1455\n",
      "1455\n"
     ]
    },
    {
     "name": "stderr",
     "output_type": "stream",
     "text": [
      "t:  24%|████████████████▌                                                   | 73/300 [01:05<03:27,  1.10it/s, now=None]\u001b[A\u001b[A\u001b[A\u001b[A\u001b[A\n",
      "\n",
      "\n",
      "\n",
      "\n"
     ]
    },
    {
     "name": "stdout",
     "output_type": "stream",
     "text": [
      "1641\n",
      "1641\n"
     ]
    },
    {
     "name": "stderr",
     "output_type": "stream",
     "text": [
      "t:  25%|████████████████▊                                                   | 74/300 [01:06<03:32,  1.06it/s, now=None]\u001b[A\u001b[A\u001b[A\u001b[A\u001b[A"
     ]
    },
    {
     "name": "stdout",
     "output_type": "stream",
     "text": [
      "1624\n",
      "1624\n"
     ]
    },
    {
     "name": "stderr",
     "output_type": "stream",
     "text": [
      "\n",
      "\n",
      "\n",
      "\n",
      "\n",
      "t:  25%|█████████████████                                                   | 75/300 [01:07<03:31,  1.06it/s, now=None]\u001b[A\u001b[A\u001b[A\u001b[A\u001b[A"
     ]
    },
    {
     "name": "stdout",
     "output_type": "stream",
     "text": [
      "1660\n",
      "1660\n"
     ]
    },
    {
     "name": "stderr",
     "output_type": "stream",
     "text": [
      "\n",
      "\n",
      "\n",
      "\n",
      "\n",
      "t:  25%|█████████████████▏                                                  | 76/300 [01:08<03:24,  1.09it/s, now=None]\u001b[A\u001b[A\u001b[A\u001b[A\u001b[A"
     ]
    },
    {
     "name": "stdout",
     "output_type": "stream",
     "text": [
      "1678\n",
      "1678\n"
     ]
    },
    {
     "name": "stderr",
     "output_type": "stream",
     "text": [
      "\n",
      "\n",
      "\n",
      "\n",
      "\n",
      "t:  26%|█████████████████▍                                                  | 77/300 [01:09<03:37,  1.03it/s, now=None]\u001b[A\u001b[A\u001b[A\u001b[A\u001b[A"
     ]
    },
    {
     "name": "stdout",
     "output_type": "stream",
     "text": [
      "1712\n",
      "1712\n"
     ]
    },
    {
     "name": "stderr",
     "output_type": "stream",
     "text": [
      "\n",
      "\n",
      "\n",
      "\n",
      "\n",
      "t:  26%|█████████████████▋                                                  | 78/300 [01:11<05:20,  1.44s/it, now=None]\u001b[A\u001b[A\u001b[A\u001b[A\u001b[A"
     ]
    },
    {
     "name": "stdout",
     "output_type": "stream",
     "text": [
      "1412\n",
      "1412\n"
     ]
    },
    {
     "name": "stderr",
     "output_type": "stream",
     "text": [
      "\n",
      "\n",
      "\n",
      "\n",
      "\n",
      "t:  26%|█████████████████▉                                                  | 79/300 [01:12<04:41,  1.27s/it, now=None]\u001b[A\u001b[A\u001b[A\u001b[A\u001b[A\n",
      "\n",
      "\n",
      "\n",
      "\n",
      "t:  27%|██████████████████▏                                                 | 80/300 [01:13<04:31,  1.23s/it, now=None]\u001b[A\u001b[A\u001b[A\u001b[A\u001b[A"
     ]
    },
    {
     "name": "stdout",
     "output_type": "stream",
     "text": [
      "1445\n",
      "1445\n"
     ]
    },
    {
     "name": "stderr",
     "output_type": "stream",
     "text": [
      "\n",
      "\n",
      "\n",
      "\n",
      "\n",
      "t:  27%|██████████████████▎                                                 | 81/300 [01:14<04:03,  1.11s/it, now=None]"
     ]
    },
    {
     "name": "stdout",
     "output_type": "stream",
     "text": [
      "1210\n",
      "1210\n"
     ]
    },
    {
     "name": "stderr",
     "output_type": "stream",
     "text": [
      "\u001b[A\u001b[A\u001b[A\u001b[A\u001b[A"
     ]
    },
    {
     "name": "stdout",
     "output_type": "stream",
     "text": [
      "1022\n",
      "1022\n"
     ]
    },
    {
     "name": "stderr",
     "output_type": "stream",
     "text": [
      "\n",
      "\n",
      "\n",
      "\n",
      "\n",
      "t:  27%|██████████████████▌                                                 | 82/300 [01:15<03:48,  1.05s/it, now=None]\u001b[A\u001b[A\u001b[A\u001b[A\u001b[A\n",
      "\n",
      "\n",
      "\n",
      "\n",
      "t:  28%|██████████████████▊                                                 | 83/300 [01:16<03:23,  1.07it/s, now=None]\u001b[A\u001b[A\u001b[A\u001b[A\u001b[A"
     ]
    },
    {
     "name": "stdout",
     "output_type": "stream",
     "text": [
      "829\n",
      "829\n"
     ]
    },
    {
     "name": "stderr",
     "output_type": "stream",
     "text": [
      "\n",
      "\n",
      "\n",
      "\n",
      "\n",
      "t:  28%|███████████████████                                                 | 84/300 [01:16<03:07,  1.15it/s, now=None]\u001b[A\u001b[A\u001b[A\u001b[A\u001b[A"
     ]
    },
    {
     "name": "stdout",
     "output_type": "stream",
     "text": [
      "411\n",
      "411\n"
     ]
    },
    {
     "name": "stderr",
     "output_type": "stream",
     "text": [
      "\n",
      "\n",
      "\n",
      "\n",
      "\n",
      "t:  28%|███████████████████▎                                                | 85/300 [01:17<02:54,  1.23it/s, now=None]\u001b[A\u001b[A\u001b[A\u001b[A\u001b[A"
     ]
    },
    {
     "name": "stdout",
     "output_type": "stream",
     "text": [
      "460\n",
      "460\n"
     ]
    },
    {
     "name": "stderr",
     "output_type": "stream",
     "text": [
      "\n",
      "\n",
      "\n",
      "\n",
      "\n",
      "t:  29%|███████████████████▍                                                | 86/300 [01:18<02:43,  1.31it/s, now=None]\u001b[A\u001b[A\u001b[A\u001b[A\u001b[A"
     ]
    },
    {
     "name": "stdout",
     "output_type": "stream",
     "text": [
      "477\n",
      "477\n"
     ]
    },
    {
     "name": "stderr",
     "output_type": "stream",
     "text": [
      "\n",
      "\n",
      "\n",
      "\n",
      "\n",
      "t:  29%|███████████████████▋                                                | 87/300 [01:18<02:35,  1.37it/s, now=None]\u001b[A\u001b[A\u001b[A\u001b[A\u001b[A"
     ]
    },
    {
     "name": "stdout",
     "output_type": "stream",
     "text": [
      "523\n",
      "523\n"
     ]
    },
    {
     "name": "stderr",
     "output_type": "stream",
     "text": [
      "\n",
      "\n",
      "\n",
      "\n",
      "\n",
      "t:  29%|███████████████████▉                                                | 88/300 [01:19<02:29,  1.42it/s, now=None]\u001b[A\u001b[A\u001b[A\u001b[A\u001b[A"
     ]
    },
    {
     "name": "stdout",
     "output_type": "stream",
     "text": [
      "506\n",
      "506\n"
     ]
    },
    {
     "name": "stderr",
     "output_type": "stream",
     "text": [
      "\n",
      "\n",
      "\n",
      "\n",
      "\n",
      "t:  30%|████████████████████▏                                               | 89/300 [01:20<02:28,  1.42it/s, now=None]\u001b[A\u001b[A\u001b[A\u001b[A\u001b[A"
     ]
    },
    {
     "name": "stdout",
     "output_type": "stream",
     "text": [
      "861\n",
      "861\n"
     ]
    },
    {
     "name": "stderr",
     "output_type": "stream",
     "text": [
      "\n",
      "\n",
      "\n",
      "\n",
      "\n",
      "t:  30%|████████████████████▍                                               | 90/300 [01:20<02:26,  1.43it/s, now=None]\u001b[A\u001b[A\u001b[A\u001b[A\u001b[A"
     ]
    },
    {
     "name": "stdout",
     "output_type": "stream",
     "text": [
      "743\n",
      "743\n"
     ]
    },
    {
     "name": "stderr",
     "output_type": "stream",
     "text": [
      "\n",
      "\n",
      "\n",
      "\n",
      "\n",
      "t:  30%|████████████████████▋                                               | 91/300 [01:21<02:32,  1.37it/s, now=None]"
     ]
    },
    {
     "name": "stdout",
     "output_type": "stream",
     "text": [
      "1015\n",
      "1015\n"
     ]
    },
    {
     "name": "stderr",
     "output_type": "stream",
     "text": [
      "\u001b[A\u001b[A\u001b[A\u001b[A\u001b[A\n",
      "\n",
      "\n",
      "\n",
      "\n",
      "t:  31%|████████████████████▊                                               | 92/300 [01:22<02:30,  1.38it/s, now=None]\u001b[A\u001b[A\u001b[A\u001b[A\u001b[A"
     ]
    },
    {
     "name": "stdout",
     "output_type": "stream",
     "text": [
      "1645\n",
      "1645\n"
     ]
    },
    {
     "name": "stderr",
     "output_type": "stream",
     "text": [
      "\n",
      "\n",
      "\n",
      "\n",
      "\n",
      "t:  31%|█████████████████████                                               | 93/300 [01:23<02:25,  1.42it/s, now=None]\u001b[A\u001b[A\u001b[A\u001b[A\u001b[A"
     ]
    },
    {
     "name": "stdout",
     "output_type": "stream",
     "text": [
      "1369\n",
      "1369\n"
     ]
    },
    {
     "name": "stderr",
     "output_type": "stream",
     "text": [
      "\n",
      "\n",
      "\n",
      "\n",
      "\n"
     ]
    },
    {
     "name": "stdout",
     "output_type": "stream",
     "text": [
      "1415\n",
      "1415\n"
     ]
    },
    {
     "name": "stderr",
     "output_type": "stream",
     "text": [
      "t:  31%|█████████████████████▎                                              | 94/300 [01:23<02:28,  1.39it/s, now=None]\u001b[A\u001b[A\u001b[A\u001b[A\u001b[A\n",
      "\n",
      "\n",
      "\n",
      "\n",
      "t:  32%|█████████████████████▌                                              | 95/300 [01:24<02:24,  1.42it/s, now=None]\u001b[A\u001b[A\u001b[A\u001b[A\u001b[A"
     ]
    },
    {
     "name": "stdout",
     "output_type": "stream",
     "text": [
      "1697\n",
      "1697\n"
     ]
    },
    {
     "name": "stderr",
     "output_type": "stream",
     "text": [
      "\n",
      "\n",
      "\n",
      "\n",
      "\n",
      "t:  32%|█████████████████████▊                                              | 96/300 [01:25<02:19,  1.47it/s, now=None]\u001b[A\u001b[A\u001b[A\u001b[A\u001b[A"
     ]
    },
    {
     "name": "stdout",
     "output_type": "stream",
     "text": [
      "1395\n",
      "1395\n"
     ]
    },
    {
     "name": "stderr",
     "output_type": "stream",
     "text": [
      "\n",
      "\n",
      "\n",
      "\n",
      "\n",
      "t:  32%|█████████████████████▉                                              | 97/300 [01:25<02:18,  1.47it/s, now=None]\u001b[A\u001b[A\u001b[A\u001b[A\u001b[A"
     ]
    },
    {
     "name": "stdout",
     "output_type": "stream",
     "text": [
      "1411\n",
      "1411\n"
     ]
    },
    {
     "name": "stderr",
     "output_type": "stream",
     "text": [
      "\n",
      "\n",
      "\n",
      "\n",
      "\n",
      "t:  33%|██████████████████████▏                                             | 98/300 [01:26<02:19,  1.45it/s, now=None]\u001b[A\u001b[A\u001b[A\u001b[A\u001b[A"
     ]
    },
    {
     "name": "stdout",
     "output_type": "stream",
     "text": [
      "1848\n",
      "1848\n"
     ]
    },
    {
     "name": "stderr",
     "output_type": "stream",
     "text": [
      "\n",
      "\n",
      "\n",
      "\n",
      "\n",
      "t:  33%|██████████████████████▍                                             | 99/300 [01:27<02:20,  1.43it/s, now=None]\u001b[A\u001b[A\u001b[A\u001b[A\u001b[A"
     ]
    },
    {
     "name": "stdout",
     "output_type": "stream",
     "text": [
      "1641\n",
      "1641\n"
     ]
    },
    {
     "name": "stderr",
     "output_type": "stream",
     "text": [
      "\n",
      "\n",
      "\n",
      "\n",
      "\n",
      "t:  33%|██████████████████████▎                                            | 100/300 [01:28<02:25,  1.37it/s, now=None]\u001b[A\u001b[A\u001b[A\u001b[A\u001b[A"
     ]
    },
    {
     "name": "stdout",
     "output_type": "stream",
     "text": [
      "1992\n",
      "1992\n"
     ]
    },
    {
     "name": "stderr",
     "output_type": "stream",
     "text": [
      "\n",
      "\n",
      "\n",
      "\n",
      "\n"
     ]
    },
    {
     "name": "stdout",
     "output_type": "stream",
     "text": [
      "2061\n",
      "2061\n"
     ]
    },
    {
     "name": "stderr",
     "output_type": "stream",
     "text": [
      "t:  34%|██████████████████████▌                                            | 101/300 [01:28<02:29,  1.33it/s, now=None]\u001b[A\u001b[A\u001b[A\u001b[A\u001b[A\n",
      "\n",
      "\n",
      "\n",
      "\n"
     ]
    },
    {
     "name": "stdout",
     "output_type": "stream",
     "text": [
      "2138\n",
      "2138\n"
     ]
    },
    {
     "name": "stderr",
     "output_type": "stream",
     "text": [
      "t:  34%|██████████████████████▊                                            | 102/300 [01:29<02:30,  1.32it/s, now=None]\u001b[A\u001b[A\u001b[A\u001b[A\u001b[A\n",
      "\n",
      "\n",
      "\n",
      "\n",
      "t:  34%|███████████████████████                                            | 103/300 [01:30<02:21,  1.39it/s, now=None]\u001b[A\u001b[A\u001b[A\u001b[A\u001b[A"
     ]
    },
    {
     "name": "stdout",
     "output_type": "stream",
     "text": [
      "2591\n",
      "2591\n"
     ]
    },
    {
     "name": "stderr",
     "output_type": "stream",
     "text": [
      "\n",
      "\n",
      "\n",
      "\n",
      "\n",
      "t:  35%|███████████████████████▏                                           | 104/300 [01:30<02:20,  1.39it/s, now=None]\u001b[A\u001b[A\u001b[A\u001b[A\u001b[A"
     ]
    },
    {
     "name": "stdout",
     "output_type": "stream",
     "text": [
      "2944\n",
      "2944\n"
     ]
    },
    {
     "name": "stderr",
     "output_type": "stream",
     "text": [
      "\n",
      "\n",
      "\n",
      "\n",
      "\n",
      "t:  35%|███████████████████████▍                                           | 105/300 [01:31<02:21,  1.38it/s, now=None]\u001b[A\u001b[A\u001b[A\u001b[A\u001b[A"
     ]
    },
    {
     "name": "stdout",
     "output_type": "stream",
     "text": [
      "2618\n",
      "2618\n"
     ]
    },
    {
     "name": "stderr",
     "output_type": "stream",
     "text": [
      "\n",
      "\n",
      "\n",
      "\n",
      "\n",
      "t:  35%|███████████████████████▋                                           | 106/300 [01:32<02:16,  1.42it/s, now=None]\u001b[A\u001b[A\u001b[A\u001b[A\u001b[A"
     ]
    },
    {
     "name": "stdout",
     "output_type": "stream",
     "text": [
      "3205\n",
      "3205\n"
     ]
    },
    {
     "name": "stderr",
     "output_type": "stream",
     "text": [
      "\n",
      "\n",
      "\n",
      "\n",
      "\n",
      "t:  36%|███████████████████████▉                                           | 107/300 [01:33<02:14,  1.44it/s, now=None]\u001b[A\u001b[A\u001b[A\u001b[A\u001b[A"
     ]
    },
    {
     "name": "stdout",
     "output_type": "stream",
     "text": [
      "3053\n",
      "3053\n"
     ]
    },
    {
     "name": "stderr",
     "output_type": "stream",
     "text": [
      "\n",
      "\n",
      "\n",
      "\n",
      "\n",
      "t:  36%|████████████████████████                                           | 108/300 [01:33<02:15,  1.42it/s, now=None]\u001b[A\u001b[A\u001b[A\u001b[A\u001b[A"
     ]
    },
    {
     "name": "stdout",
     "output_type": "stream",
     "text": [
      "3310\n",
      "3310\n"
     ]
    },
    {
     "name": "stderr",
     "output_type": "stream",
     "text": [
      "\n",
      "\n",
      "\n",
      "\n",
      "\n",
      "t:  36%|████████████████████████▎                                          | 109/300 [01:34<02:15,  1.41it/s, now=None]\u001b[A\u001b[A\u001b[A\u001b[A\u001b[A"
     ]
    },
    {
     "name": "stdout",
     "output_type": "stream",
     "text": [
      "3412\n",
      "3412\n"
     ]
    },
    {
     "name": "stderr",
     "output_type": "stream",
     "text": [
      "\n",
      "\n",
      "\n",
      "\n",
      "\n"
     ]
    },
    {
     "name": "stdout",
     "output_type": "stream",
     "text": [
      "3727\n",
      "3727\n"
     ]
    },
    {
     "name": "stderr",
     "output_type": "stream",
     "text": [
      "t:  37%|████████████████████████▌                                          | 110/300 [01:35<02:13,  1.43it/s, now=None]\u001b[A\u001b[A\u001b[A\u001b[A\u001b[A\n",
      "\n",
      "\n",
      "\n",
      "\n",
      "t:  37%|████████████████████████▊                                          | 111/300 [01:35<02:12,  1.43it/s, now=None]\u001b[A\u001b[A\u001b[A\u001b[A\u001b[A"
     ]
    },
    {
     "name": "stdout",
     "output_type": "stream",
     "text": [
      "4793\n",
      "4793\n"
     ]
    },
    {
     "name": "stderr",
     "output_type": "stream",
     "text": [
      "\n",
      "\n",
      "\n",
      "\n",
      "\n"
     ]
    },
    {
     "name": "stdout",
     "output_type": "stream",
     "text": [
      "4856\n",
      "4856\n"
     ]
    },
    {
     "name": "stderr",
     "output_type": "stream",
     "text": [
      "t:  37%|█████████████████████████                                          | 112/300 [01:36<02:15,  1.39it/s, now=None]\u001b[A\u001b[A\u001b[A\u001b[A\u001b[A\n",
      "\n",
      "\n",
      "\n",
      "\n",
      "t:  38%|█████████████████████████▏                                         | 113/300 [01:37<02:17,  1.36it/s, now=None]"
     ]
    },
    {
     "name": "stdout",
     "output_type": "stream",
     "text": [
      "5221\n",
      "5221\n"
     ]
    },
    {
     "name": "stderr",
     "output_type": "stream",
     "text": [
      "\u001b[A\u001b[A\u001b[A\u001b[A\u001b[A\n",
      "\n",
      "\n",
      "\n",
      "\n",
      "t:  38%|█████████████████████████▍                                         | 114/300 [01:38<02:14,  1.38it/s, now=None]\u001b[A\u001b[A\u001b[A\u001b[A\u001b[A"
     ]
    },
    {
     "name": "stdout",
     "output_type": "stream",
     "text": [
      "5675\n",
      "5675\n",
      "5872\n",
      "5872\n"
     ]
    },
    {
     "name": "stderr",
     "output_type": "stream",
     "text": [
      "\n",
      "\n",
      "\n",
      "\n",
      "\n",
      "t:  38%|█████████████████████████▋                                         | 115/300 [01:38<02:18,  1.33it/s, now=None]\u001b[A\u001b[A\u001b[A\u001b[A\u001b[A\n",
      "\n",
      "\n",
      "\n",
      "\n",
      "t:  39%|█████████████████████████▉                                         | 116/300 [01:39<02:21,  1.30it/s, now=None]\u001b[A\u001b[A\u001b[A\u001b[A\u001b[A"
     ]
    },
    {
     "name": "stdout",
     "output_type": "stream",
     "text": [
      "5771\n",
      "5771\n"
     ]
    },
    {
     "name": "stderr",
     "output_type": "stream",
     "text": [
      "\n",
      "\n",
      "\n",
      "\n",
      "\n",
      "t:  39%|██████████████████████████▏                                        | 117/300 [01:40<02:15,  1.35it/s, now=None]\u001b[A\u001b[A\u001b[A\u001b[A\u001b[A"
     ]
    },
    {
     "name": "stdout",
     "output_type": "stream",
     "text": [
      "6058\n",
      "6058\n",
      "6209\n",
      "6209\n"
     ]
    },
    {
     "name": "stderr",
     "output_type": "stream",
     "text": [
      "\n",
      "\n",
      "\n",
      "\n",
      "\n",
      "t:  39%|██████████████████████████▎                                        | 118/300 [01:41<02:16,  1.33it/s, now=None]\u001b[A\u001b[A\u001b[A\u001b[A\u001b[A\n",
      "\n",
      "\n",
      "\n",
      "\n",
      "t:  40%|██████████████████████████▌                                        | 119/300 [01:41<02:14,  1.35it/s, now=None]\u001b[A\u001b[A\u001b[A\u001b[A\u001b[A"
     ]
    },
    {
     "name": "stdout",
     "output_type": "stream",
     "text": [
      "6554\n",
      "6554\n"
     ]
    },
    {
     "name": "stderr",
     "output_type": "stream",
     "text": [
      "\n",
      "\n",
      "\n",
      "\n",
      "\n",
      "t:  40%|██████████████████████████▊                                        | 120/300 [01:42<02:12,  1.36it/s, now=None]\u001b[A\u001b[A\u001b[A\u001b[A\u001b[A"
     ]
    },
    {
     "name": "stdout",
     "output_type": "stream",
     "text": [
      "6247\n",
      "6247\n"
     ]
    },
    {
     "name": "stderr",
     "output_type": "stream",
     "text": [
      "\n",
      "\n",
      "\n",
      "\n",
      "\n",
      "t:  40%|███████████████████████████                                        | 121/300 [01:43<02:10,  1.37it/s, now=None]\u001b[A\u001b[A\u001b[A\u001b[A\u001b[A"
     ]
    },
    {
     "name": "stdout",
     "output_type": "stream",
     "text": [
      "5753\n",
      "5753\n"
     ]
    },
    {
     "name": "stderr",
     "output_type": "stream",
     "text": [
      "\n",
      "\n",
      "\n",
      "\n",
      "\n",
      "t:  41%|███████████████████████████▏                                       | 122/300 [01:44<02:06,  1.40it/s, now=None]\u001b[A\u001b[A\u001b[A\u001b[A\u001b[A"
     ]
    },
    {
     "name": "stdout",
     "output_type": "stream",
     "text": [
      "5797\n",
      "5797\n"
     ]
    },
    {
     "name": "stderr",
     "output_type": "stream",
     "text": [
      "\n",
      "\n",
      "\n",
      "\n",
      "\n",
      "t:  41%|███████████████████████████▍                                       | 123/300 [01:44<02:03,  1.43it/s, now=None]\u001b[A\u001b[A\u001b[A\u001b[A\u001b[A"
     ]
    },
    {
     "name": "stdout",
     "output_type": "stream",
     "text": [
      "5449\n",
      "5449\n"
     ]
    },
    {
     "name": "stderr",
     "output_type": "stream",
     "text": [
      "\n",
      "\n",
      "\n",
      "\n",
      "\n",
      "t:  41%|███████████████████████████▋                                       | 124/300 [01:45<02:03,  1.43it/s, now=None]\u001b[A\u001b[A\u001b[A\u001b[A\u001b[A"
     ]
    },
    {
     "name": "stdout",
     "output_type": "stream",
     "text": [
      "4891\n",
      "4891\n"
     ]
    },
    {
     "name": "stderr",
     "output_type": "stream",
     "text": [
      "\n",
      "\n",
      "\n",
      "\n",
      "\n",
      "t:  42%|███████████████████████████▉                                       | 125/300 [01:46<02:03,  1.41it/s, now=None]"
     ]
    },
    {
     "name": "stdout",
     "output_type": "stream",
     "text": [
      "4435\n",
      "4435\n"
     ]
    },
    {
     "name": "stderr",
     "output_type": "stream",
     "text": [
      "\u001b[A\u001b[A\u001b[A\u001b[A\u001b[A\n",
      "\n",
      "\n",
      "\n",
      "\n",
      "t:  42%|████████████████████████████▏                                      | 126/300 [01:46<02:03,  1.41it/s, now=None]\u001b[A\u001b[A\u001b[A\u001b[A\u001b[A"
     ]
    },
    {
     "name": "stdout",
     "output_type": "stream",
     "text": [
      "3811\n",
      "3811\n"
     ]
    },
    {
     "name": "stderr",
     "output_type": "stream",
     "text": [
      "\n",
      "\n",
      "\n",
      "\n",
      "\n",
      "t:  42%|████████████████████████████▎                                      | 127/300 [01:47<01:52,  1.54it/s, now=None]\u001b[A\u001b[A\u001b[A\u001b[A\u001b[A"
     ]
    },
    {
     "name": "stdout",
     "output_type": "stream",
     "text": [
      "3301\n",
      "3301\n"
     ]
    },
    {
     "name": "stderr",
     "output_type": "stream",
     "text": [
      "\n",
      "\n",
      "\n",
      "\n",
      "\n",
      "t:  43%|████████████████████████████▌                                      | 128/300 [01:48<01:53,  1.51it/s, now=None]\u001b[A\u001b[A\u001b[A\u001b[A\u001b[A"
     ]
    },
    {
     "name": "stdout",
     "output_type": "stream",
     "text": [
      "2742\n",
      "2742\n"
     ]
    },
    {
     "name": "stderr",
     "output_type": "stream",
     "text": [
      "\n",
      "\n",
      "\n",
      "\n",
      "\n",
      "t:  43%|████████████████████████████▊                                      | 129/300 [01:48<01:49,  1.56it/s, now=None]\u001b[A\u001b[A\u001b[A\u001b[A\u001b[A"
     ]
    },
    {
     "name": "stdout",
     "output_type": "stream",
     "text": [
      "2228\n",
      "2228\n"
     ]
    },
    {
     "name": "stderr",
     "output_type": "stream",
     "text": [
      "\n",
      "\n",
      "\n",
      "\n",
      "\n",
      "t:  43%|█████████████████████████████                                      | 130/300 [01:49<01:48,  1.56it/s, now=None]\u001b[A\u001b[A\u001b[A\u001b[A\u001b[A"
     ]
    },
    {
     "name": "stdout",
     "output_type": "stream",
     "text": [
      "1611\n",
      "1611\n"
     ]
    },
    {
     "name": "stderr",
     "output_type": "stream",
     "text": [
      "\n",
      "\n",
      "\n",
      "\n",
      "\n",
      "t:  44%|█████████████████████████████▎                                     | 131/300 [01:49<01:47,  1.58it/s, now=None]\u001b[A\u001b[A\u001b[A\u001b[A\u001b[A"
     ]
    },
    {
     "name": "stdout",
     "output_type": "stream",
     "text": [
      "934\n",
      "934\n"
     ]
    },
    {
     "name": "stderr",
     "output_type": "stream",
     "text": [
      "\n",
      "\n",
      "\n",
      "\n",
      "\n",
      "t:  44%|█████████████████████████████▍                                     | 132/300 [01:50<01:49,  1.54it/s, now=None]\u001b[A\u001b[A\u001b[A\u001b[A\u001b[A"
     ]
    },
    {
     "name": "stdout",
     "output_type": "stream",
     "text": [
      "238\n",
      "238\n"
     ]
    },
    {
     "name": "stderr",
     "output_type": "stream",
     "text": [
      "\n",
      "\n",
      "\n",
      "\n",
      "\n",
      "t:  44%|█████████████████████████████▋                                     | 133/300 [01:51<01:48,  1.54it/s, now=None]\u001b[A\u001b[A\u001b[A\u001b[A\u001b[A"
     ]
    },
    {
     "name": "stdout",
     "output_type": "stream",
     "text": [
      "4\n",
      "4\n"
     ]
    },
    {
     "name": "stderr",
     "output_type": "stream",
     "text": [
      "\n",
      "\n",
      "\n",
      "\n",
      "\n",
      "t:  45%|█████████████████████████████▉                                     | 134/300 [01:52<02:02,  1.35it/s, now=None]\u001b[A\u001b[A\u001b[A\u001b[A\u001b[A"
     ]
    },
    {
     "name": "stdout",
     "output_type": "stream",
     "text": [
      "3\n",
      "3\n"
     ]
    },
    {
     "name": "stderr",
     "output_type": "stream",
     "text": [
      "\n",
      "\n",
      "\n",
      "\n",
      "\n",
      "t:  45%|██████████████████████████████▏                                    | 135/300 [01:52<01:53,  1.45it/s, now=None]\u001b[A\u001b[A\u001b[A\u001b[A\u001b[A"
     ]
    },
    {
     "name": "stdout",
     "output_type": "stream",
     "text": [
      "0\n",
      "0\n"
     ]
    },
    {
     "name": "stderr",
     "output_type": "stream",
     "text": [
      "\n",
      "\n",
      "\n",
      "\n",
      "\n",
      "t:  45%|██████████████████████████████▎                                    | 136/300 [01:53<01:47,  1.53it/s, now=None]\u001b[A\u001b[A\u001b[A\u001b[A\u001b[A"
     ]
    },
    {
     "name": "stdout",
     "output_type": "stream",
     "text": [
      "0\n",
      "0\n"
     ]
    },
    {
     "name": "stderr",
     "output_type": "stream",
     "text": [
      "\n",
      "\n",
      "\n",
      "\n",
      "\n",
      "t:  46%|██████████████████████████████▌                                    | 137/300 [01:53<01:43,  1.58it/s, now=None]\u001b[A\u001b[A\u001b[A\u001b[A\u001b[A"
     ]
    },
    {
     "name": "stdout",
     "output_type": "stream",
     "text": [
      "0\n",
      "0\n"
     ]
    },
    {
     "name": "stderr",
     "output_type": "stream",
     "text": [
      "\n",
      "\n",
      "\n",
      "\n",
      "\n",
      "t:  46%|██████████████████████████████▊                                    | 138/300 [01:54<01:37,  1.66it/s, now=None]\u001b[A\u001b[A\u001b[A\u001b[A\u001b[A"
     ]
    },
    {
     "name": "stdout",
     "output_type": "stream",
     "text": [
      "0\n",
      "0\n"
     ]
    },
    {
     "name": "stderr",
     "output_type": "stream",
     "text": [
      "\n",
      "\n",
      "\n",
      "\n",
      "\n",
      "t:  46%|███████████████████████████████                                    | 139/300 [01:55<01:49,  1.47it/s, now=None]\u001b[A\u001b[A\u001b[A\u001b[A\u001b[A"
     ]
    },
    {
     "name": "stdout",
     "output_type": "stream",
     "text": [
      "0\n",
      "0\n"
     ]
    },
    {
     "name": "stderr",
     "output_type": "stream",
     "text": [
      "\n",
      "\n",
      "\n",
      "\n",
      "\n",
      "t:  47%|███████████████████████████████▎                                   | 140/300 [01:55<01:46,  1.50it/s, now=None]\u001b[A\u001b[A\u001b[A\u001b[A\u001b[A"
     ]
    },
    {
     "name": "stdout",
     "output_type": "stream",
     "text": [
      "0\n",
      "0\n"
     ]
    },
    {
     "name": "stderr",
     "output_type": "stream",
     "text": [
      "\n",
      "\n",
      "\n",
      "\n",
      "\n"
     ]
    },
    {
     "name": "stdout",
     "output_type": "stream",
     "text": [
      "0\n",
      "0\n"
     ]
    },
    {
     "name": "stderr",
     "output_type": "stream",
     "text": [
      "t:  47%|███████████████████████████████▍                                   | 141/300 [01:56<01:50,  1.44it/s, now=None]\u001b[A\u001b[A\u001b[A\u001b[A\u001b[A\n",
      "\n",
      "\n",
      "\n",
      "\n",
      "t:  47%|███████████████████████████████▋                                   | 142/300 [01:57<01:46,  1.48it/s, now=None]\u001b[A\u001b[A\u001b[A\u001b[A\u001b[A"
     ]
    },
    {
     "name": "stdout",
     "output_type": "stream",
     "text": [
      "0\n",
      "0\n"
     ]
    },
    {
     "name": "stderr",
     "output_type": "stream",
     "text": [
      "\n",
      "\n",
      "\n",
      "\n",
      "\n",
      "t:  48%|███████████████████████████████▉                                   | 143/300 [01:57<01:46,  1.47it/s, now=None]\u001b[A\u001b[A\u001b[A\u001b[A\u001b[A"
     ]
    },
    {
     "name": "stdout",
     "output_type": "stream",
     "text": [
      "0\n",
      "0\n"
     ]
    },
    {
     "name": "stderr",
     "output_type": "stream",
     "text": [
      "\n",
      "\n",
      "\n",
      "\n",
      "\n",
      "t:  48%|████████████████████████████████▏                                  | 144/300 [01:58<01:44,  1.50it/s, now=None]\u001b[A\u001b[A\u001b[A\u001b[A\u001b[A"
     ]
    },
    {
     "name": "stdout",
     "output_type": "stream",
     "text": [
      "0\n",
      "0\n"
     ]
    },
    {
     "name": "stderr",
     "output_type": "stream",
     "text": [
      "\n",
      "\n",
      "\n",
      "\n",
      "\n",
      "t:  48%|████████████████████████████████▍                                  | 145/300 [01:59<01:46,  1.45it/s, now=None]\u001b[A\u001b[A\u001b[A\u001b[A\u001b[A"
     ]
    },
    {
     "name": "stdout",
     "output_type": "stream",
     "text": [
      "7115\n",
      "7115\n"
     ]
    },
    {
     "name": "stderr",
     "output_type": "stream",
     "text": [
      "\n",
      "\n",
      "\n",
      "\n",
      "\n",
      "t:  49%|████████████████████████████████▌                                  | 146/300 [02:00<01:49,  1.40it/s, now=None]\u001b[A\u001b[A\u001b[A\u001b[A\u001b[A"
     ]
    },
    {
     "name": "stdout",
     "output_type": "stream",
     "text": [
      "8301\n",
      "8301\n",
      "9924\n",
      "9924\n"
     ]
    },
    {
     "name": "stderr",
     "output_type": "stream",
     "text": [
      "\n",
      "\n",
      "\n",
      "\n",
      "\n",
      "t:  49%|████████████████████████████████▊                                  | 147/300 [02:01<01:58,  1.29it/s, now=None]\u001b[A\u001b[A\u001b[A\u001b[A\u001b[A\n",
      "\n",
      "\n",
      "\n",
      "\n",
      "t:  49%|█████████████████████████████████                                  | 148/300 [02:01<01:56,  1.30it/s, now=None]\u001b[A\u001b[A\u001b[A\u001b[A\u001b[A"
     ]
    },
    {
     "name": "stdout",
     "output_type": "stream",
     "text": [
      "10912\n",
      "10912\n"
     ]
    },
    {
     "name": "stderr",
     "output_type": "stream",
     "text": [
      "\n",
      "\n",
      "\n",
      "\n",
      "\n",
      "t:  50%|█████████████████████████████████▎                                 | 149/300 [02:02<01:46,  1.41it/s, now=None]\u001b[A\u001b[A\u001b[A\u001b[A\u001b[A"
     ]
    },
    {
     "name": "stdout",
     "output_type": "stream",
     "text": [
      "11075\n",
      "11075\n"
     ]
    },
    {
     "name": "stderr",
     "output_type": "stream",
     "text": [
      "\n",
      "\n",
      "\n",
      "\n",
      "\n",
      "t:  50%|█████████████████████████████████▌                                 | 150/300 [02:03<01:43,  1.45it/s, now=None]\u001b[A\u001b[A\u001b[A\u001b[A\u001b[A"
     ]
    },
    {
     "name": "stdout",
     "output_type": "stream",
     "text": [
      "11455\n",
      "11455\n"
     ]
    },
    {
     "name": "stderr",
     "output_type": "stream",
     "text": [
      "\n",
      "\n",
      "\n",
      "\n",
      "\n",
      "t:  50%|█████████████████████████████████▋                                 | 151/300 [02:03<01:39,  1.50it/s, now=None]\u001b[A\u001b[A\u001b[A\u001b[A\u001b[A"
     ]
    },
    {
     "name": "stdout",
     "output_type": "stream",
     "text": [
      "12906\n",
      "12906\n"
     ]
    },
    {
     "name": "stderr",
     "output_type": "stream",
     "text": [
      "\n",
      "\n",
      "\n",
      "\n",
      "\n",
      "t:  51%|█████████████████████████████████▉                                 | 152/300 [02:04<01:37,  1.51it/s, now=None]\u001b[A\u001b[A\u001b[A\u001b[A\u001b[A"
     ]
    },
    {
     "name": "stdout",
     "output_type": "stream",
     "text": [
      "15432\n",
      "15432\n"
     ]
    },
    {
     "name": "stderr",
     "output_type": "stream",
     "text": [
      "\n",
      "\n",
      "\n",
      "\n",
      "\n",
      "t:  51%|██████████████████████████████████▏                                | 153/300 [02:04<01:36,  1.52it/s, now=None]\u001b[A\u001b[A\u001b[A\u001b[A\u001b[A"
     ]
    },
    {
     "name": "stdout",
     "output_type": "stream",
     "text": [
      "17080\n",
      "17080\n"
     ]
    },
    {
     "name": "stderr",
     "output_type": "stream",
     "text": [
      "\n",
      "\n",
      "\n",
      "\n",
      "\n",
      "t:  51%|██████████████████████████████████▍                                | 154/300 [02:05<01:31,  1.59it/s, now=None]\u001b[A\u001b[A\u001b[A\u001b[A\u001b[A"
     ]
    },
    {
     "name": "stdout",
     "output_type": "stream",
     "text": [
      "16576\n",
      "16576\n"
     ]
    },
    {
     "name": "stderr",
     "output_type": "stream",
     "text": [
      "\n",
      "\n",
      "\n",
      "\n",
      "\n",
      "t:  52%|██████████████████████████████████▌                                | 155/300 [02:06<01:30,  1.60it/s, now=None]\u001b[A\u001b[A\u001b[A\u001b[A\u001b[A"
     ]
    },
    {
     "name": "stdout",
     "output_type": "stream",
     "text": [
      "19057\n",
      "19057\n"
     ]
    },
    {
     "name": "stderr",
     "output_type": "stream",
     "text": [
      "\n",
      "\n",
      "\n",
      "\n",
      "\n",
      "t:  52%|██████████████████████████████████▊                                | 156/300 [02:06<01:32,  1.56it/s, now=None]\u001b[A\u001b[A\u001b[A\u001b[A\u001b[A"
     ]
    },
    {
     "name": "stdout",
     "output_type": "stream",
     "text": [
      "17685\n",
      "17685\n"
     ]
    },
    {
     "name": "stderr",
     "output_type": "stream",
     "text": [
      "\n",
      "\n",
      "\n",
      "\n",
      "\n",
      "t:  52%|███████████████████████████████████                                | 157/300 [02:07<01:29,  1.60it/s, now=None]\u001b[A\u001b[A\u001b[A\u001b[A\u001b[A"
     ]
    },
    {
     "name": "stdout",
     "output_type": "stream",
     "text": [
      "20163\n",
      "20163\n"
     ]
    },
    {
     "name": "stderr",
     "output_type": "stream",
     "text": [
      "\n",
      "\n",
      "\n",
      "\n",
      "\n",
      "t:  53%|███████████████████████████████████▎                               | 158/300 [02:08<01:30,  1.57it/s, now=None]\u001b[A\u001b[A\u001b[A\u001b[A\u001b[A"
     ]
    },
    {
     "name": "stdout",
     "output_type": "stream",
     "text": [
      "21103\n",
      "21103\n"
     ]
    },
    {
     "name": "stderr",
     "output_type": "stream",
     "text": [
      "\n",
      "\n",
      "\n",
      "\n",
      "\n",
      "t:  53%|███████████████████████████████████▌                               | 159/300 [02:08<01:28,  1.59it/s, now=None]\u001b[A\u001b[A\u001b[A\u001b[A\u001b[A"
     ]
    },
    {
     "name": "stdout",
     "output_type": "stream",
     "text": [
      "19638\n",
      "19638\n"
     ]
    },
    {
     "name": "stderr",
     "output_type": "stream",
     "text": [
      "\n",
      "\n",
      "\n",
      "\n",
      "\n",
      "t:  53%|███████████████████████████████████▋                               | 160/300 [02:09<01:26,  1.61it/s, now=None]\u001b[A\u001b[A\u001b[A\u001b[A\u001b[A"
     ]
    },
    {
     "name": "stdout",
     "output_type": "stream",
     "text": [
      "20555\n",
      "20555\n"
     ]
    },
    {
     "name": "stderr",
     "output_type": "stream",
     "text": [
      "\n",
      "\n",
      "\n",
      "\n",
      "\n",
      "t:  54%|███████████████████████████████████▉                               | 161/300 [02:09<01:24,  1.65it/s, now=None]\u001b[A\u001b[A\u001b[A\u001b[A\u001b[A"
     ]
    },
    {
     "name": "stdout",
     "output_type": "stream",
     "text": [
      "20474\n",
      "20474\n"
     ]
    },
    {
     "name": "stderr",
     "output_type": "stream",
     "text": [
      "\n",
      "\n",
      "\n",
      "\n",
      "\n",
      "t:  54%|████████████████████████████████████▏                              | 162/300 [02:10<01:24,  1.64it/s, now=None]\u001b[A\u001b[A\u001b[A\u001b[A\u001b[A"
     ]
    },
    {
     "name": "stdout",
     "output_type": "stream",
     "text": [
      "20086\n",
      "20086\n"
     ]
    },
    {
     "name": "stderr",
     "output_type": "stream",
     "text": [
      "\n",
      "\n",
      "\n",
      "\n",
      "\n",
      "t:  54%|████████████████████████████████████▍                              | 163/300 [02:11<01:24,  1.62it/s, now=None]\u001b[A\u001b[A\u001b[A\u001b[A\u001b[A"
     ]
    },
    {
     "name": "stdout",
     "output_type": "stream",
     "text": [
      "20994\n",
      "20994\n"
     ]
    },
    {
     "name": "stderr",
     "output_type": "stream",
     "text": [
      "\n",
      "\n",
      "\n",
      "\n",
      "\n",
      "t:  55%|████████████████████████████████████▋                              | 164/300 [02:11<01:22,  1.64it/s, now=None]\u001b[A\u001b[A\u001b[A\u001b[A\u001b[A"
     ]
    },
    {
     "name": "stdout",
     "output_type": "stream",
     "text": [
      "19487\n",
      "19487\n"
     ]
    },
    {
     "name": "stderr",
     "output_type": "stream",
     "text": [
      "\n",
      "\n",
      "\n",
      "\n",
      "\n",
      "t:  55%|████████████████████████████████████▊                              | 165/300 [02:12<01:21,  1.67it/s, now=None]\u001b[A\u001b[A\u001b[A\u001b[A\u001b[A"
     ]
    },
    {
     "name": "stdout",
     "output_type": "stream",
     "text": [
      "19625\n",
      "19625\n"
     ]
    },
    {
     "name": "stderr",
     "output_type": "stream",
     "text": [
      "\n",
      "\n",
      "\n",
      "\n",
      "\n",
      "t:  55%|█████████████████████████████████████                              | 166/300 [02:12<01:20,  1.66it/s, now=None]\u001b[A\u001b[A\u001b[A\u001b[A\u001b[A"
     ]
    },
    {
     "name": "stdout",
     "output_type": "stream",
     "text": [
      "17124\n",
      "17124\n"
     ]
    },
    {
     "name": "stderr",
     "output_type": "stream",
     "text": [
      "\n",
      "\n",
      "\n",
      "\n",
      "\n",
      "t:  56%|█████████████████████████████████████▎                             | 167/300 [02:13<01:18,  1.68it/s, now=None]\u001b[A\u001b[A\u001b[A\u001b[A\u001b[A"
     ]
    },
    {
     "name": "stdout",
     "output_type": "stream",
     "text": [
      "18180\n",
      "18180\n"
     ]
    },
    {
     "name": "stderr",
     "output_type": "stream",
     "text": [
      "\n",
      "\n",
      "\n",
      "\n",
      "\n",
      "t:  56%|█████████████████████████████████████▌                             | 168/300 [02:14<01:19,  1.66it/s, now=None]\u001b[A\u001b[A\u001b[A\u001b[A\u001b[A"
     ]
    },
    {
     "name": "stdout",
     "output_type": "stream",
     "text": [
      "17212\n",
      "17212\n"
     ]
    },
    {
     "name": "stderr",
     "output_type": "stream",
     "text": [
      "\n",
      "\n",
      "\n",
      "\n",
      "\n",
      "t:  56%|█████████████████████████████████████▋                             | 169/300 [02:14<01:19,  1.64it/s, now=None]\u001b[A\u001b[A\u001b[A\u001b[A\u001b[A"
     ]
    },
    {
     "name": "stdout",
     "output_type": "stream",
     "text": [
      "17621\n",
      "17621\n"
     ]
    },
    {
     "name": "stderr",
     "output_type": "stream",
     "text": [
      "\n",
      "\n",
      "\n",
      "\n",
      "\n",
      "t:  57%|█████████████████████████████████████▉                             | 170/300 [02:15<01:19,  1.64it/s, now=None]\u001b[A\u001b[A\u001b[A\u001b[A\u001b[A"
     ]
    },
    {
     "name": "stdout",
     "output_type": "stream",
     "text": [
      "16939\n",
      "16939\n"
     ]
    },
    {
     "name": "stderr",
     "output_type": "stream",
     "text": [
      "\n",
      "\n",
      "\n",
      "\n",
      "\n",
      "t:  57%|██████████████████████████████████████▏                            | 171/300 [02:15<01:18,  1.65it/s, now=None]\u001b[A\u001b[A\u001b[A\u001b[A\u001b[A"
     ]
    },
    {
     "name": "stdout",
     "output_type": "stream",
     "text": [
      "17040\n",
      "17040\n"
     ]
    },
    {
     "name": "stderr",
     "output_type": "stream",
     "text": [
      "\n",
      "\n",
      "\n",
      "\n",
      "\n",
      "t:  57%|██████████████████████████████████████▍                            | 172/300 [02:16<01:19,  1.61it/s, now=None]\u001b[A\u001b[A\u001b[A\u001b[A\u001b[A"
     ]
    },
    {
     "name": "stdout",
     "output_type": "stream",
     "text": [
      "16329\n",
      "16329\n",
      "15885\n",
      "15885\n"
     ]
    },
    {
     "name": "stderr",
     "output_type": "stream",
     "text": [
      "\n",
      "\n",
      "\n",
      "\n",
      "\n",
      "t:  58%|██████████████████████████████████████▋                            | 173/300 [02:17<01:24,  1.51it/s, now=None]\u001b[A\u001b[A\u001b[A\u001b[A\u001b[A"
     ]
    },
    {
     "name": "stdout",
     "output_type": "stream",
     "text": [
      "14818\n",
      "14818\n"
     ]
    },
    {
     "name": "stderr",
     "output_type": "stream",
     "text": [
      "\n",
      "\n",
      "\n",
      "\n",
      "\n",
      "t:  58%|██████████████████████████████████████▊                            | 174/300 [02:18<01:31,  1.37it/s, now=None]\u001b[A\u001b[A\u001b[A\u001b[A\u001b[A\n",
      "\n",
      "\n",
      "\n",
      "\n",
      "t:  58%|███████████████████████████████████████                            | 175/300 [02:18<01:27,  1.43it/s, now=None]\u001b[A\u001b[A\u001b[A\u001b[A\u001b[A"
     ]
    },
    {
     "name": "stdout",
     "output_type": "stream",
     "text": [
      "15345\n",
      "15345\n"
     ]
    },
    {
     "name": "stderr",
     "output_type": "stream",
     "text": [
      "\n",
      "\n",
      "\n",
      "\n",
      "\n",
      "t:  59%|███████████████████████████████████████▎                           | 176/300 [02:19<01:26,  1.44it/s, now=None]\u001b[A\u001b[A\u001b[A\u001b[A\u001b[A"
     ]
    },
    {
     "name": "stdout",
     "output_type": "stream",
     "text": [
      "15456\n",
      "15456\n"
     ]
    },
    {
     "name": "stderr",
     "output_type": "stream",
     "text": [
      "\n",
      "\n",
      "\n",
      "\n",
      "\n",
      "t:  59%|███████████████████████████████████████▌                           | 177/300 [02:20<01:24,  1.46it/s, now=None]\u001b[A\u001b[A\u001b[A\u001b[A\u001b[A"
     ]
    },
    {
     "name": "stdout",
     "output_type": "stream",
     "text": [
      "14642\n",
      "14642\n"
     ]
    },
    {
     "name": "stderr",
     "output_type": "stream",
     "text": [
      "\n",
      "\n",
      "\n",
      "\n",
      "\n",
      "t:  59%|███████████████████████████████████████▊                           | 178/300 [02:20<01:21,  1.50it/s, now=None]\u001b[A\u001b[A\u001b[A\u001b[A\u001b[A"
     ]
    },
    {
     "name": "stdout",
     "output_type": "stream",
     "text": [
      "15266\n",
      "15266\n"
     ]
    },
    {
     "name": "stderr",
     "output_type": "stream",
     "text": [
      "\n",
      "\n",
      "\n",
      "\n",
      "\n",
      "t:  60%|███████████████████████████████████████▉                           | 179/300 [02:21<01:18,  1.54it/s, now=None]\u001b[A\u001b[A\u001b[A\u001b[A\u001b[A"
     ]
    },
    {
     "name": "stdout",
     "output_type": "stream",
     "text": [
      "14798\n",
      "14798\n"
     ]
    },
    {
     "name": "stderr",
     "output_type": "stream",
     "text": [
      "\n",
      "\n",
      "\n",
      "\n",
      "\n",
      "t:  60%|████████████████████████████████████████▏                          | 180/300 [02:22<01:21,  1.48it/s, now=None]\u001b[A\u001b[A\u001b[A\u001b[A\u001b[A"
     ]
    },
    {
     "name": "stdout",
     "output_type": "stream",
     "text": [
      "14718\n",
      "14718\n"
     ]
    },
    {
     "name": "stderr",
     "output_type": "stream",
     "text": [
      "\n",
      "\n",
      "\n",
      "\n",
      "\n"
     ]
    },
    {
     "name": "stdout",
     "output_type": "stream",
     "text": [
      "13848\n",
      "13848\n"
     ]
    },
    {
     "name": "stderr",
     "output_type": "stream",
     "text": [
      "t:  60%|████████████████████████████████████████▍                          | 181/300 [02:22<01:25,  1.40it/s, now=None]\u001b[A\u001b[A\u001b[A\u001b[A\u001b[A\n",
      "\n",
      "\n",
      "\n",
      "\n",
      "t:  61%|████████████████████████████████████████▋                          | 182/300 [02:23<01:23,  1.42it/s, now=None]\u001b[A\u001b[A\u001b[A\u001b[A\u001b[A"
     ]
    },
    {
     "name": "stdout",
     "output_type": "stream",
     "text": [
      "13937\n",
      "13937\n"
     ]
    },
    {
     "name": "stderr",
     "output_type": "stream",
     "text": [
      "\n",
      "\n",
      "\n",
      "\n",
      "\n",
      "t:  61%|████████████████████████████████████████▊                          | 183/300 [02:24<01:20,  1.45it/s, now=None]\u001b[A\u001b[A\u001b[A\u001b[A\u001b[A"
     ]
    },
    {
     "name": "stdout",
     "output_type": "stream",
     "text": [
      "12401\n",
      "12401\n"
     ]
    },
    {
     "name": "stderr",
     "output_type": "stream",
     "text": [
      "\n",
      "\n",
      "\n",
      "\n",
      "\n",
      "t:  61%|█████████████████████████████████████████                          | 184/300 [02:24<01:19,  1.45it/s, now=None]\u001b[A\u001b[A\u001b[A\u001b[A\u001b[A"
     ]
    },
    {
     "name": "stdout",
     "output_type": "stream",
     "text": [
      "13344\n",
      "13344\n"
     ]
    },
    {
     "name": "stderr",
     "output_type": "stream",
     "text": [
      "\n",
      "\n",
      "\n",
      "\n",
      "\n"
     ]
    },
    {
     "name": "stdout",
     "output_type": "stream",
     "text": [
      "13378\n",
      "13378\n"
     ]
    },
    {
     "name": "stderr",
     "output_type": "stream",
     "text": [
      "t:  62%|█████████████████████████████████████████▎                         | 185/300 [02:25<01:19,  1.44it/s, now=None]\u001b[A\u001b[A\u001b[A\u001b[A\u001b[A\n",
      "\n",
      "\n",
      "\n",
      "\n",
      "t:  62%|█████████████████████████████████████████▌                         | 186/300 [02:26<01:23,  1.36it/s, now=None]\u001b[A\u001b[A\u001b[A\u001b[A\u001b[A"
     ]
    },
    {
     "name": "stdout",
     "output_type": "stream",
     "text": [
      "12883\n",
      "12883\n",
      "11859\n",
      "11859\n"
     ]
    },
    {
     "name": "stderr",
     "output_type": "stream",
     "text": [
      "\n",
      "\n",
      "\n",
      "\n",
      "\n",
      "t:  62%|█████████████████████████████████████████▊                         | 187/300 [02:27<01:25,  1.32it/s, now=None]\u001b[A\u001b[A\u001b[A\u001b[A\u001b[A\n",
      "\n",
      "\n",
      "\n",
      "\n"
     ]
    },
    {
     "name": "stdout",
     "output_type": "stream",
     "text": [
      "11464\n",
      "11464\n"
     ]
    },
    {
     "name": "stderr",
     "output_type": "stream",
     "text": [
      "t:  63%|█████████████████████████████████████████▉                         | 188/300 [02:28<01:24,  1.32it/s, now=None]\u001b[A\u001b[A\u001b[A\u001b[A\u001b[A"
     ]
    },
    {
     "name": "stdout",
     "output_type": "stream",
     "text": [
      "9697\n",
      "9697\n"
     ]
    },
    {
     "name": "stderr",
     "output_type": "stream",
     "text": [
      "\n",
      "\n",
      "\n",
      "\n",
      "\n",
      "t:  63%|██████████████████████████████████████████▏                        | 189/300 [02:28<01:28,  1.26it/s, now=None]\u001b[A\u001b[A\u001b[A\u001b[A\u001b[A"
     ]
    },
    {
     "name": "stdout",
     "output_type": "stream",
     "text": [
      "9885\n",
      "9885\n"
     ]
    },
    {
     "name": "stderr",
     "output_type": "stream",
     "text": [
      "\n",
      "\n",
      "\n",
      "\n",
      "\n",
      "t:  63%|██████████████████████████████████████████▍                        | 190/300 [02:29<01:30,  1.22it/s, now=None]\u001b[A\u001b[A\u001b[A\u001b[A\u001b[A"
     ]
    },
    {
     "name": "stdout",
     "output_type": "stream",
     "text": [
      "9683\n",
      "9683\n"
     ]
    },
    {
     "name": "stderr",
     "output_type": "stream",
     "text": [
      "\n",
      "\n",
      "\n",
      "\n",
      "\n",
      "t:  64%|██████████████████████████████████████████▋                        | 191/300 [02:30<01:34,  1.16it/s, now=None]\u001b[A\u001b[A\u001b[A\u001b[A\u001b[A\n",
      "\n",
      "\n",
      "\n",
      "\n",
      "t:  64%|██████████████████████████████████████████▉                        | 192/300 [02:31<01:27,  1.23it/s, now=None]\u001b[A\u001b[A\u001b[A\u001b[A\u001b[A"
     ]
    },
    {
     "name": "stdout",
     "output_type": "stream",
     "text": [
      "9723\n",
      "9723\n"
     ]
    },
    {
     "name": "stderr",
     "output_type": "stream",
     "text": [
      "\n",
      "\n",
      "\n",
      "\n",
      "\n",
      "t:  64%|███████████████████████████████████████████                        | 193/300 [02:32<01:24,  1.26it/s, now=None]\u001b[A\u001b[A\u001b[A\u001b[A\u001b[A"
     ]
    },
    {
     "name": "stdout",
     "output_type": "stream",
     "text": [
      "9948\n",
      "9948\n"
     ]
    },
    {
     "name": "stderr",
     "output_type": "stream",
     "text": [
      "\n",
      "\n",
      "\n",
      "\n",
      "\n",
      "t:  65%|███████████████████████████████████████████▎                       | 194/300 [02:32<01:21,  1.30it/s, now=None]\u001b[A\u001b[A\u001b[A\u001b[A\u001b[A"
     ]
    },
    {
     "name": "stdout",
     "output_type": "stream",
     "text": [
      "8494\n",
      "8494\n"
     ]
    },
    {
     "name": "stderr",
     "output_type": "stream",
     "text": [
      "\n",
      "\n",
      "\n",
      "\n",
      "\n",
      "t:  65%|███████████████████████████████████████████▌                       | 195/300 [02:33<01:17,  1.36it/s, now=None]\u001b[A\u001b[A\u001b[A\u001b[A\u001b[A"
     ]
    },
    {
     "name": "stdout",
     "output_type": "stream",
     "text": [
      "8324\n",
      "8324\n"
     ]
    },
    {
     "name": "stderr",
     "output_type": "stream",
     "text": [
      "\n",
      "\n",
      "\n",
      "\n",
      "\n",
      "t:  65%|███████████████████████████████████████████▊                       | 196/300 [02:34<01:11,  1.46it/s, now=None]\u001b[A\u001b[A\u001b[A\u001b[A\u001b[A"
     ]
    },
    {
     "name": "stdout",
     "output_type": "stream",
     "text": [
      "7874\n",
      "7874\n"
     ]
    },
    {
     "name": "stderr",
     "output_type": "stream",
     "text": [
      "\n",
      "\n",
      "\n",
      "\n",
      "\n",
      "t:  66%|███████████████████████████████████████████▉                       | 197/300 [02:35<01:16,  1.34it/s, now=None]\u001b[A\u001b[A\u001b[A\u001b[A\u001b[A"
     ]
    },
    {
     "name": "stdout",
     "output_type": "stream",
     "text": [
      "7651\n",
      "7651\n"
     ]
    },
    {
     "name": "stderr",
     "output_type": "stream",
     "text": [
      "\n",
      "\n",
      "\n",
      "\n",
      "\n",
      "t:  66%|████████████████████████████████████████████▏                      | 198/300 [02:35<01:11,  1.43it/s, now=None]\u001b[A\u001b[A\u001b[A\u001b[A\u001b[A"
     ]
    },
    {
     "name": "stdout",
     "output_type": "stream",
     "text": [
      "7549\n",
      "7549\n"
     ]
    },
    {
     "name": "stderr",
     "output_type": "stream",
     "text": [
      "\n",
      "\n",
      "\n",
      "\n",
      "\n",
      "t:  66%|████████████████████████████████████████████▍                      | 199/300 [02:36<01:07,  1.50it/s, now=None]\u001b[A\u001b[A\u001b[A\u001b[A\u001b[A"
     ]
    },
    {
     "name": "stdout",
     "output_type": "stream",
     "text": [
      "7377\n",
      "7377\n"
     ]
    },
    {
     "name": "stderr",
     "output_type": "stream",
     "text": [
      "\n",
      "\n",
      "\n",
      "\n",
      "\n",
      "t:  67%|████████████████████████████████████████████▋                      | 200/300 [02:36<01:04,  1.55it/s, now=None]\u001b[A\u001b[A\u001b[A\u001b[A\u001b[A"
     ]
    },
    {
     "name": "stdout",
     "output_type": "stream",
     "text": [
      "6352\n",
      "6352\n"
     ]
    },
    {
     "name": "stderr",
     "output_type": "stream",
     "text": [
      "\n",
      "\n",
      "\n",
      "\n",
      "\n",
      "t:  67%|████████████████████████████████████████████▉                      | 201/300 [02:37<01:03,  1.56it/s, now=None]\u001b[A\u001b[A\u001b[A\u001b[A\u001b[A"
     ]
    },
    {
     "name": "stdout",
     "output_type": "stream",
     "text": [
      "6374\n",
      "6374\n"
     ]
    },
    {
     "name": "stderr",
     "output_type": "stream",
     "text": [
      "\n",
      "\n",
      "\n",
      "\n",
      "\n",
      "t:  67%|█████████████████████████████████████████████                      | 202/300 [02:38<01:01,  1.60it/s, now=None]\u001b[A\u001b[A\u001b[A\u001b[A\u001b[A"
     ]
    },
    {
     "name": "stdout",
     "output_type": "stream",
     "text": [
      "6551\n",
      "6551\n"
     ]
    },
    {
     "name": "stderr",
     "output_type": "stream",
     "text": [
      "\n",
      "\n",
      "\n",
      "\n",
      "\n",
      "t:  68%|█████████████████████████████████████████████▎                     | 203/300 [02:38<00:59,  1.63it/s, now=None]\u001b[A\u001b[A\u001b[A\u001b[A\u001b[A"
     ]
    },
    {
     "name": "stdout",
     "output_type": "stream",
     "text": [
      "5902\n",
      "5902\n"
     ]
    },
    {
     "name": "stderr",
     "output_type": "stream",
     "text": [
      "\n",
      "\n",
      "\n",
      "\n",
      "\n",
      "t:  68%|█████████████████████████████████████████████▌                     | 204/300 [02:39<00:58,  1.64it/s, now=None]\u001b[A\u001b[A\u001b[A\u001b[A\u001b[A"
     ]
    },
    {
     "name": "stdout",
     "output_type": "stream",
     "text": [
      "5153\n",
      "5153\n"
     ]
    },
    {
     "name": "stderr",
     "output_type": "stream",
     "text": [
      "\n",
      "\n",
      "\n",
      "\n",
      "\n",
      "t:  68%|█████████████████████████████████████████████▊                     | 205/300 [02:39<00:59,  1.58it/s, now=None]\u001b[A\u001b[A\u001b[A\u001b[A\u001b[A"
     ]
    },
    {
     "name": "stdout",
     "output_type": "stream",
     "text": [
      "5205\n",
      "5205\n"
     ]
    },
    {
     "name": "stderr",
     "output_type": "stream",
     "text": [
      "\n",
      "\n",
      "\n",
      "\n",
      "\n",
      "t:  69%|██████████████████████████████████████████████                     | 206/300 [02:40<00:57,  1.65it/s, now=None]\u001b[A\u001b[A\u001b[A\u001b[A\u001b[A"
     ]
    },
    {
     "name": "stdout",
     "output_type": "stream",
     "text": [
      "4960\n",
      "4960\n"
     ]
    },
    {
     "name": "stderr",
     "output_type": "stream",
     "text": [
      "\n",
      "\n",
      "\n",
      "\n",
      "\n",
      "t:  69%|██████████████████████████████████████████████▏                    | 207/300 [02:41<00:57,  1.61it/s, now=None]\u001b[A\u001b[A\u001b[A\u001b[A\u001b[A"
     ]
    },
    {
     "name": "stdout",
     "output_type": "stream",
     "text": [
      "4574\n",
      "4574\n",
      "4891\n",
      "4891\n"
     ]
    },
    {
     "name": "stderr",
     "output_type": "stream",
     "text": [
      "\n",
      "\n",
      "\n",
      "\n",
      "\n",
      "t:  69%|██████████████████████████████████████████████▍                    | 208/300 [02:41<01:00,  1.51it/s, now=None]\u001b[A\u001b[A\u001b[A\u001b[A\u001b[A\n",
      "\n",
      "\n",
      "\n",
      "\n",
      "t:  70%|██████████████████████████████████████████████▋                    | 209/300 [02:42<01:00,  1.50it/s, now=None]\u001b[A\u001b[A\u001b[A\u001b[A\u001b[A"
     ]
    },
    {
     "name": "stdout",
     "output_type": "stream",
     "text": [
      "5323\n",
      "5323\n"
     ]
    },
    {
     "name": "stderr",
     "output_type": "stream",
     "text": [
      "\n",
      "\n",
      "\n",
      "\n",
      "\n",
      "t:  70%|██████████████████████████████████████████████▉                    | 210/300 [02:43<00:57,  1.56it/s, now=None]\u001b[A\u001b[A\u001b[A\u001b[A\u001b[A"
     ]
    },
    {
     "name": "stdout",
     "output_type": "stream",
     "text": [
      "5014\n",
      "5014\n"
     ]
    },
    {
     "name": "stderr",
     "output_type": "stream",
     "text": [
      "\n",
      "\n",
      "\n",
      "\n",
      "\n",
      "t:  70%|███████████████████████████████████████████████                    | 211/300 [02:43<00:55,  1.60it/s, now=None]\u001b[A\u001b[A\u001b[A\u001b[A\u001b[A"
     ]
    },
    {
     "name": "stdout",
     "output_type": "stream",
     "text": [
      "4906\n",
      "4906\n"
     ]
    },
    {
     "name": "stderr",
     "output_type": "stream",
     "text": [
      "\n",
      "\n",
      "\n",
      "\n",
      "\n",
      "t:  71%|███████████████████████████████████████████████▎                   | 212/300 [02:44<00:54,  1.63it/s, now=None]\u001b[A\u001b[A\u001b[A\u001b[A\u001b[A"
     ]
    },
    {
     "name": "stdout",
     "output_type": "stream",
     "text": [
      "5496\n",
      "5496\n"
     ]
    },
    {
     "name": "stderr",
     "output_type": "stream",
     "text": [
      "\n",
      "\n",
      "\n",
      "\n",
      "\n",
      "t:  71%|███████████████████████████████████████████████▌                   | 213/300 [02:45<00:55,  1.57it/s, now=None]\u001b[A\u001b[A\u001b[A\u001b[A\u001b[A"
     ]
    },
    {
     "name": "stdout",
     "output_type": "stream",
     "text": [
      "5185\n",
      "5185\n"
     ]
    },
    {
     "name": "stderr",
     "output_type": "stream",
     "text": [
      "\n",
      "\n",
      "\n",
      "\n",
      "\n",
      "t:  71%|███████████████████████████████████████████████▊                   | 214/300 [02:45<00:53,  1.61it/s, now=None]\u001b[A\u001b[A\u001b[A\u001b[A\u001b[A"
     ]
    },
    {
     "name": "stdout",
     "output_type": "stream",
     "text": [
      "4917\n",
      "4917\n"
     ]
    },
    {
     "name": "stderr",
     "output_type": "stream",
     "text": [
      "\n",
      "\n",
      "\n",
      "\n",
      "\n",
      "t:  72%|████████████████████████████████████████████████                   | 215/300 [02:46<00:52,  1.62it/s, now=None]\u001b[A\u001b[A\u001b[A\u001b[A\u001b[A"
     ]
    },
    {
     "name": "stdout",
     "output_type": "stream",
     "text": [
      "5192\n",
      "5192\n"
     ]
    },
    {
     "name": "stderr",
     "output_type": "stream",
     "text": [
      "\n",
      "\n",
      "\n",
      "\n",
      "\n",
      "t:  72%|████████████████████████████████████████████████▏                  | 216/300 [02:46<00:53,  1.58it/s, now=None]\u001b[A\u001b[A\u001b[A\u001b[A\u001b[A"
     ]
    },
    {
     "name": "stdout",
     "output_type": "stream",
     "text": [
      "5436\n",
      "5436\n"
     ]
    },
    {
     "name": "stderr",
     "output_type": "stream",
     "text": [
      "\n",
      "\n",
      "\n",
      "\n",
      "\n",
      "t:  72%|████████████████████████████████████████████████▍                  | 217/300 [02:47<00:54,  1.52it/s, now=None]\u001b[A\u001b[A\u001b[A\u001b[A\u001b[A"
     ]
    },
    {
     "name": "stdout",
     "output_type": "stream",
     "text": [
      "4971\n",
      "4971\n"
     ]
    },
    {
     "name": "stderr",
     "output_type": "stream",
     "text": [
      "\n",
      "\n",
      "\n",
      "\n",
      "\n",
      "t:  73%|████████████████████████████████████████████████▋                  | 218/300 [02:48<00:55,  1.48it/s, now=None]\u001b[A\u001b[A\u001b[A\u001b[A\u001b[A"
     ]
    },
    {
     "name": "stdout",
     "output_type": "stream",
     "text": [
      "4918\n",
      "4918\n"
     ]
    },
    {
     "name": "stderr",
     "output_type": "stream",
     "text": [
      "\n",
      "\n",
      "\n",
      "\n",
      "\n",
      "t:  73%|████████████████████████████████████████████████▉                  | 219/300 [02:48<00:54,  1.50it/s, now=None]\u001b[A\u001b[A\u001b[A\u001b[A\u001b[A"
     ]
    },
    {
     "name": "stdout",
     "output_type": "stream",
     "text": [
      "4991\n",
      "4991\n"
     ]
    },
    {
     "name": "stderr",
     "output_type": "stream",
     "text": [
      "\n",
      "\n",
      "\n",
      "\n",
      "\n",
      "t:  73%|█████████████████████████████████████████████████▏                 | 220/300 [02:49<00:54,  1.47it/s, now=None]\u001b[A\u001b[A\u001b[A\u001b[A\u001b[A"
     ]
    },
    {
     "name": "stdout",
     "output_type": "stream",
     "text": [
      "4482\n",
      "4482\n"
     ]
    },
    {
     "name": "stderr",
     "output_type": "stream",
     "text": [
      "\n",
      "\n",
      "\n",
      "\n",
      "\n",
      "t:  74%|█████████████████████████████████████████████████▎                 | 221/300 [02:50<00:53,  1.47it/s, now=None]\u001b[A\u001b[A\u001b[A\u001b[A\u001b[A"
     ]
    },
    {
     "name": "stdout",
     "output_type": "stream",
     "text": [
      "4858\n",
      "4858\n"
     ]
    },
    {
     "name": "stderr",
     "output_type": "stream",
     "text": [
      "\n",
      "\n",
      "\n",
      "\n",
      "\n",
      "t:  74%|█████████████████████████████████████████████████▌                 | 222/300 [02:50<00:51,  1.52it/s, now=None]\u001b[A\u001b[A\u001b[A\u001b[A\u001b[A"
     ]
    },
    {
     "name": "stdout",
     "output_type": "stream",
     "text": [
      "4194\n",
      "4194\n"
     ]
    },
    {
     "name": "stderr",
     "output_type": "stream",
     "text": [
      "\n",
      "\n",
      "\n",
      "\n",
      "\n",
      "t:  74%|█████████████████████████████████████████████████▊                 | 223/300 [02:51<00:49,  1.57it/s, now=None]\u001b[A\u001b[A\u001b[A\u001b[A\u001b[A"
     ]
    },
    {
     "name": "stdout",
     "output_type": "stream",
     "text": [
      "4466\n",
      "4466\n"
     ]
    },
    {
     "name": "stderr",
     "output_type": "stream",
     "text": [
      "\n",
      "\n",
      "\n",
      "\n",
      "\n",
      "t:  75%|██████████████████████████████████████████████████                 | 224/300 [02:52<00:47,  1.60it/s, now=None]\u001b[A\u001b[A\u001b[A\u001b[A\u001b[A"
     ]
    },
    {
     "name": "stdout",
     "output_type": "stream",
     "text": [
      "4407\n",
      "4407\n"
     ]
    },
    {
     "name": "stderr",
     "output_type": "stream",
     "text": [
      "\n",
      "\n",
      "\n",
      "\n",
      "\n",
      "t:  75%|██████████████████████████████████████████████████▎                | 225/300 [02:52<00:47,  1.57it/s, now=None]\u001b[A\u001b[A\u001b[A\u001b[A\u001b[A"
     ]
    },
    {
     "name": "stdout",
     "output_type": "stream",
     "text": [
      "4272\n",
      "4272\n"
     ]
    },
    {
     "name": "stderr",
     "output_type": "stream",
     "text": [
      "\n",
      "\n",
      "\n",
      "\n",
      "\n",
      "t:  75%|██████████████████████████████████████████████████▍                | 226/300 [02:53<00:47,  1.55it/s, now=None]\u001b[A\u001b[A\u001b[A\u001b[A\u001b[A"
     ]
    },
    {
     "name": "stdout",
     "output_type": "stream",
     "text": [
      "4016\n",
      "4016\n"
     ]
    },
    {
     "name": "stderr",
     "output_type": "stream",
     "text": [
      "\n",
      "\n",
      "\n",
      "\n",
      "\n",
      "t:  76%|██████████████████████████████████████████████████▋                | 227/300 [02:54<00:47,  1.53it/s, now=None]\u001b[A\u001b[A\u001b[A\u001b[A\u001b[A"
     ]
    },
    {
     "name": "stdout",
     "output_type": "stream",
     "text": [
      "4289\n",
      "4289\n"
     ]
    },
    {
     "name": "stderr",
     "output_type": "stream",
     "text": [
      "\n",
      "\n",
      "\n",
      "\n",
      "\n",
      "t:  76%|██████████████████████████████████████████████████▉                | 228/300 [02:54<00:47,  1.53it/s, now=None]\u001b[A\u001b[A\u001b[A\u001b[A\u001b[A"
     ]
    },
    {
     "name": "stdout",
     "output_type": "stream",
     "text": [
      "3784\n",
      "3784\n"
     ]
    },
    {
     "name": "stderr",
     "output_type": "stream",
     "text": [
      "\n",
      "\n",
      "\n",
      "\n",
      "\n",
      "t:  76%|███████████████████████████████████████████████████▏               | 229/300 [02:55<00:47,  1.50it/s, now=None]\u001b[A\u001b[A\u001b[A\u001b[A\u001b[A"
     ]
    },
    {
     "name": "stdout",
     "output_type": "stream",
     "text": [
      "3978\n",
      "3978\n"
     ]
    },
    {
     "name": "stderr",
     "output_type": "stream",
     "text": [
      "\n",
      "\n",
      "\n",
      "\n",
      "\n",
      "t:  77%|███████████████████████████████████████████████████▎               | 230/300 [02:56<00:45,  1.53it/s, now=None]\u001b[A\u001b[A\u001b[A\u001b[A\u001b[A"
     ]
    },
    {
     "name": "stdout",
     "output_type": "stream",
     "text": [
      "3651\n",
      "3651\n"
     ]
    },
    {
     "name": "stderr",
     "output_type": "stream",
     "text": [
      "\n",
      "\n",
      "\n",
      "\n",
      "\n",
      "t:  77%|███████████████████████████████████████████████████▌               | 231/300 [02:56<00:44,  1.54it/s, now=None]\u001b[A\u001b[A\u001b[A\u001b[A\u001b[A"
     ]
    },
    {
     "name": "stdout",
     "output_type": "stream",
     "text": [
      "3462\n",
      "3462\n"
     ]
    },
    {
     "name": "stderr",
     "output_type": "stream",
     "text": [
      "\n",
      "\n",
      "\n",
      "\n",
      "\n",
      "t:  77%|███████████████████████████████████████████████████▊               | 232/300 [02:57<00:43,  1.56it/s, now=None]\u001b[A\u001b[A\u001b[A\u001b[A\u001b[A"
     ]
    },
    {
     "name": "stdout",
     "output_type": "stream",
     "text": [
      "3418\n",
      "3418\n"
     ]
    },
    {
     "name": "stderr",
     "output_type": "stream",
     "text": [
      "\n",
      "\n",
      "\n",
      "\n",
      "\n",
      "t:  78%|████████████████████████████████████████████████████               | 233/300 [02:58<00:46,  1.44it/s, now=None]\u001b[A\u001b[A\u001b[A\u001b[A\u001b[A"
     ]
    },
    {
     "name": "stdout",
     "output_type": "stream",
     "text": [
      "3344\n",
      "3344\n"
     ]
    },
    {
     "name": "stderr",
     "output_type": "stream",
     "text": [
      "\n",
      "\n",
      "\n",
      "\n",
      "\n",
      "t:  78%|████████████████████████████████████████████████████▎              | 234/300 [02:58<00:47,  1.40it/s, now=None]\u001b[A\u001b[A\u001b[A\u001b[A\u001b[A"
     ]
    },
    {
     "name": "stdout",
     "output_type": "stream",
     "text": [
      "2935\n",
      "2935\n"
     ]
    },
    {
     "name": "stderr",
     "output_type": "stream",
     "text": [
      "\n",
      "\n",
      "\n",
      "\n",
      "\n",
      "t:  78%|████████████████████████████████████████████████████▍              | 235/300 [02:59<00:43,  1.48it/s, now=None]\u001b[A\u001b[A\u001b[A\u001b[A\u001b[A"
     ]
    },
    {
     "name": "stdout",
     "output_type": "stream",
     "text": [
      "2969\n",
      "2969\n"
     ]
    },
    {
     "name": "stderr",
     "output_type": "stream",
     "text": [
      "\n",
      "\n",
      "\n",
      "\n",
      "\n",
      "t:  79%|████████████████████████████████████████████████████▋              | 236/300 [03:00<00:42,  1.51it/s, now=None]\u001b[A\u001b[A\u001b[A\u001b[A\u001b[A"
     ]
    },
    {
     "name": "stdout",
     "output_type": "stream",
     "text": [
      "3473\n",
      "3473\n"
     ]
    },
    {
     "name": "stderr",
     "output_type": "stream",
     "text": [
      "\n",
      "\n",
      "\n",
      "\n",
      "\n",
      "t:  79%|████████████████████████████████████████████████████▉              | 237/300 [03:00<00:41,  1.51it/s, now=None]\u001b[A\u001b[A\u001b[A\u001b[A\u001b[A"
     ]
    },
    {
     "name": "stdout",
     "output_type": "stream",
     "text": [
      "2884\n",
      "2884\n"
     ]
    },
    {
     "name": "stderr",
     "output_type": "stream",
     "text": [
      "\n",
      "\n",
      "\n",
      "\n",
      "\n",
      "t:  79%|█████████████████████████████████████████████████████▏             | 238/300 [03:01<00:40,  1.52it/s, now=None]\u001b[A\u001b[A\u001b[A\u001b[A\u001b[A"
     ]
    },
    {
     "name": "stdout",
     "output_type": "stream",
     "text": [
      "3435\n",
      "3435\n"
     ]
    },
    {
     "name": "stderr",
     "output_type": "stream",
     "text": [
      "\n",
      "\n",
      "\n",
      "\n",
      "\n",
      "t:  80%|█████████████████████████████████████████████████████▍             | 239/300 [03:02<00:39,  1.53it/s, now=None]\u001b[A\u001b[A\u001b[A\u001b[A\u001b[A"
     ]
    },
    {
     "name": "stdout",
     "output_type": "stream",
     "text": [
      "2949\n",
      "2949\n",
      "3240\n",
      "3240\n"
     ]
    },
    {
     "name": "stderr",
     "output_type": "stream",
     "text": [
      "\n",
      "\n",
      "\n",
      "\n",
      "\n",
      "t:  80%|█████████████████████████████████████████████████████▌             | 240/300 [03:02<00:39,  1.50it/s, now=None]\u001b[A\u001b[A\u001b[A\u001b[A\u001b[A\n",
      "\n",
      "\n",
      "\n",
      "\n",
      "t:  80%|█████████████████████████████████████████████████████▊             | 241/300 [03:03<00:39,  1.48it/s, now=None]\u001b[A\u001b[A\u001b[A\u001b[A\u001b[A"
     ]
    },
    {
     "name": "stdout",
     "output_type": "stream",
     "text": [
      "3190\n",
      "3190\n"
     ]
    },
    {
     "name": "stderr",
     "output_type": "stream",
     "text": [
      "\n",
      "\n",
      "\n",
      "\n",
      "\n",
      "t:  81%|██████████████████████████████████████████████████████             | 242/300 [03:04<00:41,  1.41it/s, now=None]\u001b[A\u001b[A\u001b[A\u001b[A\u001b[A"
     ]
    },
    {
     "name": "stdout",
     "output_type": "stream",
     "text": [
      "3472\n",
      "3472\n"
     ]
    },
    {
     "name": "stderr",
     "output_type": "stream",
     "text": [
      "\n",
      "\n",
      "\n",
      "\n",
      "\n",
      "t:  81%|██████████████████████████████████████████████████████▎            | 243/300 [03:04<00:40,  1.41it/s, now=None]\u001b[A\u001b[A\u001b[A\u001b[A\u001b[A"
     ]
    },
    {
     "name": "stdout",
     "output_type": "stream",
     "text": [
      "3423\n",
      "3423\n"
     ]
    },
    {
     "name": "stderr",
     "output_type": "stream",
     "text": [
      "\n",
      "\n",
      "\n",
      "\n",
      "\n",
      "t:  81%|██████████████████████████████████████████████████████▍            | 244/300 [03:05<00:39,  1.43it/s, now=None]\u001b[A\u001b[A\u001b[A\u001b[A\u001b[A"
     ]
    },
    {
     "name": "stdout",
     "output_type": "stream",
     "text": [
      "3653\n",
      "3653\n"
     ]
    },
    {
     "name": "stderr",
     "output_type": "stream",
     "text": [
      "\n",
      "\n",
      "\n",
      "\n",
      "\n",
      "t:  82%|██████████████████████████████████████████████████████▋            | 245/300 [03:06<00:39,  1.41it/s, now=None]\u001b[A\u001b[A\u001b[A\u001b[A\u001b[A"
     ]
    },
    {
     "name": "stdout",
     "output_type": "stream",
     "text": [
      "3921\n",
      "3921\n"
     ]
    },
    {
     "name": "stderr",
     "output_type": "stream",
     "text": [
      "\n",
      "\n",
      "\n",
      "\n",
      "\n"
     ]
    },
    {
     "name": "stdout",
     "output_type": "stream",
     "text": [
      "3476\n",
      "3476\n"
     ]
    },
    {
     "name": "stderr",
     "output_type": "stream",
     "text": [
      "t:  82%|██████████████████████████████████████████████████████▉            | 246/300 [03:07<00:38,  1.40it/s, now=None]\u001b[A\u001b[A\u001b[A\u001b[A\u001b[A\n",
      "\n",
      "\n",
      "\n",
      "\n",
      "t:  82%|███████████████████████████████████████████████████████▏           | 247/300 [03:07<00:36,  1.44it/s, now=None]\u001b[A\u001b[A\u001b[A\u001b[A\u001b[A"
     ]
    },
    {
     "name": "stdout",
     "output_type": "stream",
     "text": [
      "3918\n",
      "3918\n"
     ]
    },
    {
     "name": "stderr",
     "output_type": "stream",
     "text": [
      "\n",
      "\n",
      "\n",
      "\n",
      "\n",
      "t:  83%|███████████████████████████████████████████████████████▍           | 248/300 [03:08<00:36,  1.44it/s, now=None]\u001b[A\u001b[A\u001b[A\u001b[A\u001b[A"
     ]
    },
    {
     "name": "stdout",
     "output_type": "stream",
     "text": [
      "4149\n",
      "4149\n"
     ]
    },
    {
     "name": "stderr",
     "output_type": "stream",
     "text": [
      "\n",
      "\n",
      "\n",
      "\n",
      "\n",
      "t:  83%|███████████████████████████████████████████████████████▌           | 249/300 [03:09<00:35,  1.43it/s, now=None]\u001b[A\u001b[A\u001b[A\u001b[A\u001b[A"
     ]
    },
    {
     "name": "stdout",
     "output_type": "stream",
     "text": [
      "3553\n",
      "3553\n",
      "3502\n",
      "3502\n"
     ]
    },
    {
     "name": "stderr",
     "output_type": "stream",
     "text": [
      "\n",
      "\n",
      "\n",
      "\n",
      "\n",
      "t:  83%|███████████████████████████████████████████████████████▊           | 250/300 [03:09<00:34,  1.44it/s, now=None]\u001b[A\u001b[A\u001b[A\u001b[A\u001b[A\n",
      "\n",
      "\n",
      "\n",
      "\n",
      "t:  84%|████████████████████████████████████████████████████████           | 251/300 [03:10<00:33,  1.47it/s, now=None]\u001b[A\u001b[A\u001b[A\u001b[A\u001b[A"
     ]
    },
    {
     "name": "stdout",
     "output_type": "stream",
     "text": [
      "3534\n",
      "3534\n",
      "3421\n",
      "3421\n"
     ]
    },
    {
     "name": "stderr",
     "output_type": "stream",
     "text": [
      "\n",
      "\n",
      "\n",
      "\n",
      "\n",
      "t:  84%|████████████████████████████████████████████████████████▎          | 252/300 [03:11<00:37,  1.29it/s, now=None]\u001b[A\u001b[A\u001b[A\u001b[A\u001b[A\n",
      "\n",
      "\n",
      "\n",
      "\n",
      "t:  84%|████████████████████████████████████████████████████████▌          | 253/300 [03:12<00:40,  1.16it/s, now=None]\u001b[A\u001b[A\u001b[A\u001b[A\u001b[A"
     ]
    },
    {
     "name": "stdout",
     "output_type": "stream",
     "text": [
      "3323\n",
      "3323\n"
     ]
    },
    {
     "name": "stderr",
     "output_type": "stream",
     "text": [
      "\n",
      "\n",
      "\n",
      "\n",
      "\n",
      "t:  85%|████████████████████████████████████████████████████████▋          | 254/300 [03:13<00:38,  1.20it/s, now=None]\u001b[A\u001b[A\u001b[A\u001b[A\u001b[A"
     ]
    },
    {
     "name": "stdout",
     "output_type": "stream",
     "text": [
      "3442\n",
      "3442\n"
     ]
    },
    {
     "name": "stderr",
     "output_type": "stream",
     "text": [
      "\n",
      "\n",
      "\n",
      "\n",
      "\n",
      "t:  85%|████████████████████████████████████████████████████████▉          | 255/300 [03:14<00:35,  1.29it/s, now=None]\u001b[A\u001b[A\u001b[A\u001b[A\u001b[A"
     ]
    },
    {
     "name": "stdout",
     "output_type": "stream",
     "text": [
      "4050\n",
      "4050\n"
     ]
    },
    {
     "name": "stderr",
     "output_type": "stream",
     "text": [
      "\n",
      "\n",
      "\n",
      "\n",
      "\n",
      "t:  85%|█████████████████████████████████████████████████████████▏         | 256/300 [03:14<00:32,  1.35it/s, now=None]\u001b[A\u001b[A\u001b[A\u001b[A\u001b[A"
     ]
    },
    {
     "name": "stdout",
     "output_type": "stream",
     "text": [
      "3565\n",
      "3565\n"
     ]
    },
    {
     "name": "stderr",
     "output_type": "stream",
     "text": [
      "\n",
      "\n",
      "\n",
      "\n",
      "\n",
      "t:  86%|█████████████████████████████████████████████████████████▍         | 257/300 [03:15<00:30,  1.39it/s, now=None]\u001b[A\u001b[A\u001b[A\u001b[A\u001b[A"
     ]
    },
    {
     "name": "stdout",
     "output_type": "stream",
     "text": [
      "3689\n",
      "3689\n"
     ]
    },
    {
     "name": "stderr",
     "output_type": "stream",
     "text": [
      "\n",
      "\n",
      "\n",
      "\n",
      "\n",
      "t:  86%|█████████████████████████████████████████████████████████▌         | 258/300 [03:16<00:29,  1.41it/s, now=None]\u001b[A\u001b[A\u001b[A\u001b[A\u001b[A"
     ]
    },
    {
     "name": "stdout",
     "output_type": "stream",
     "text": [
      "3932\n",
      "3932\n",
      "4106\n",
      "4106\n"
     ]
    },
    {
     "name": "stderr",
     "output_type": "stream",
     "text": [
      "\n",
      "\n",
      "\n",
      "\n",
      "\n",
      "t:  86%|█████████████████████████████████████████████████████████▊         | 259/300 [03:16<00:30,  1.34it/s, now=None]\u001b[A\u001b[A\u001b[A\u001b[A\u001b[A\n",
      "\n",
      "\n",
      "\n",
      "\n",
      "t:  87%|██████████████████████████████████████████████████████████         | 260/300 [03:17<00:29,  1.35it/s, now=None]\u001b[A\u001b[A\u001b[A\u001b[A\u001b[A"
     ]
    },
    {
     "name": "stdout",
     "output_type": "stream",
     "text": [
      "4058\n",
      "4058\n"
     ]
    },
    {
     "name": "stderr",
     "output_type": "stream",
     "text": [
      "\n",
      "\n",
      "\n",
      "\n",
      "\n",
      "t:  87%|██████████████████████████████████████████████████████████▎        | 261/300 [03:18<00:28,  1.39it/s, now=None]\u001b[A\u001b[A\u001b[A\u001b[A\u001b[A"
     ]
    },
    {
     "name": "stdout",
     "output_type": "stream",
     "text": [
      "3901\n",
      "3901\n"
     ]
    },
    {
     "name": "stderr",
     "output_type": "stream",
     "text": [
      "\n",
      "\n",
      "\n",
      "\n",
      "\n",
      "t:  87%|██████████████████████████████████████████████████████████▌        | 262/300 [03:18<00:26,  1.45it/s, now=None]\u001b[A\u001b[A\u001b[A\u001b[A\u001b[A"
     ]
    },
    {
     "name": "stdout",
     "output_type": "stream",
     "text": [
      "3970\n",
      "3970\n"
     ]
    },
    {
     "name": "stderr",
     "output_type": "stream",
     "text": [
      "\n",
      "\n",
      "\n",
      "\n",
      "\n",
      "t:  88%|██████████████████████████████████████████████████████████▋        | 263/300 [03:19<00:25,  1.47it/s, now=None]\u001b[A\u001b[A\u001b[A\u001b[A\u001b[A"
     ]
    },
    {
     "name": "stdout",
     "output_type": "stream",
     "text": [
      "4110\n",
      "4110\n",
      "3855\n",
      "3855\n"
     ]
    },
    {
     "name": "stderr",
     "output_type": "stream",
     "text": [
      "\n",
      "\n",
      "\n",
      "\n",
      "\n",
      "t:  88%|██████████████████████████████████████████████████████████▉        | 264/300 [03:20<00:26,  1.38it/s, now=None]\u001b[A\u001b[A\u001b[A\u001b[A\u001b[A\n",
      "\n",
      "\n",
      "\n",
      "\n",
      "t:  88%|███████████████████████████████████████████████████████████▏       | 265/300 [03:21<00:26,  1.30it/s, now=None]\u001b[A\u001b[A\u001b[A\u001b[A\u001b[A"
     ]
    },
    {
     "name": "stdout",
     "output_type": "stream",
     "text": [
      "3831\n",
      "3831\n"
     ]
    },
    {
     "name": "stderr",
     "output_type": "stream",
     "text": [
      "\n",
      "\n",
      "\n",
      "\n",
      "\n"
     ]
    },
    {
     "name": "stdout",
     "output_type": "stream",
     "text": [
      "3846\n",
      "3846\n"
     ]
    },
    {
     "name": "stderr",
     "output_type": "stream",
     "text": [
      "t:  89%|███████████████████████████████████████████████████████████▍       | 266/300 [03:22<00:26,  1.28it/s, now=None]\u001b[A\u001b[A\u001b[A\u001b[A\u001b[A\n",
      "\n",
      "\n",
      "\n",
      "\n"
     ]
    },
    {
     "name": "stdout",
     "output_type": "stream",
     "text": [
      "3794\n",
      "3794\n"
     ]
    },
    {
     "name": "stderr",
     "output_type": "stream",
     "text": [
      "t:  89%|███████████████████████████████████████████████████████████▋       | 267/300 [03:22<00:26,  1.23it/s, now=None]\u001b[A\u001b[A\u001b[A\u001b[A\u001b[A"
     ]
    },
    {
     "name": "stdout",
     "output_type": "stream",
     "text": [
      "3974\n",
      "3974\n"
     ]
    },
    {
     "name": "stderr",
     "output_type": "stream",
     "text": [
      "\n",
      "\n",
      "\n",
      "\n",
      "\n",
      "t:  89%|███████████████████████████████████████████████████████████▊       | 268/300 [03:23<00:27,  1.17it/s, now=None]\u001b[A\u001b[A\u001b[A\u001b[A\u001b[A"
     ]
    },
    {
     "name": "stdout",
     "output_type": "stream",
     "text": [
      "3957\n",
      "3957\n"
     ]
    },
    {
     "name": "stderr",
     "output_type": "stream",
     "text": [
      "\n",
      "\n",
      "\n",
      "\n",
      "\n",
      "t:  90%|████████████████████████████████████████████████████████████       | 269/300 [03:24<00:27,  1.14it/s, now=None]\u001b[A\u001b[A\u001b[A\u001b[A\u001b[A\n",
      "\n",
      "\n",
      "\n",
      "\n"
     ]
    },
    {
     "name": "stdout",
     "output_type": "stream",
     "text": [
      "3782\n",
      "3782\n"
     ]
    },
    {
     "name": "stderr",
     "output_type": "stream",
     "text": [
      "t:  90%|████████████████████████████████████████████████████████████▎      | 270/300 [03:25<00:24,  1.21it/s, now=None]\u001b[A\u001b[A\u001b[A\u001b[A\u001b[A\n",
      "\n",
      "\n",
      "\n",
      "\n",
      "t:  90%|████████████████████████████████████████████████████████████▌      | 271/300 [03:26<00:23,  1.23it/s, now=None]\u001b[A\u001b[A\u001b[A\u001b[A\u001b[A"
     ]
    },
    {
     "name": "stdout",
     "output_type": "stream",
     "text": [
      "3855\n",
      "3855\n"
     ]
    },
    {
     "name": "stderr",
     "output_type": "stream",
     "text": [
      "\n",
      "\n",
      "\n",
      "\n",
      "\n"
     ]
    },
    {
     "name": "stdout",
     "output_type": "stream",
     "text": [
      "3822\n",
      "3822\n"
     ]
    },
    {
     "name": "stderr",
     "output_type": "stream",
     "text": [
      "t:  91%|████████████████████████████████████████████████████████████▋      | 272/300 [03:27<00:22,  1.25it/s, now=None]\u001b[A\u001b[A\u001b[A\u001b[A\u001b[A\n",
      "\n",
      "\n",
      "\n",
      "\n",
      "t:  91%|████████████████████████████████████████████████████████████▉      | 273/300 [03:27<00:20,  1.31it/s, now=None]\u001b[A\u001b[A\u001b[A\u001b[A\u001b[A"
     ]
    },
    {
     "name": "stdout",
     "output_type": "stream",
     "text": [
      "4098\n",
      "4098\n"
     ]
    },
    {
     "name": "stderr",
     "output_type": "stream",
     "text": [
      "\n",
      "\n",
      "\n",
      "\n",
      "\n",
      "t:  91%|█████████████████████████████████████████████████████████████▏     | 274/300 [03:28<00:18,  1.39it/s, now=None]\u001b[A\u001b[A\u001b[A\u001b[A\u001b[A"
     ]
    },
    {
     "name": "stdout",
     "output_type": "stream",
     "text": [
      "3747\n",
      "3747\n"
     ]
    },
    {
     "name": "stderr",
     "output_type": "stream",
     "text": [
      "\n",
      "\n",
      "\n",
      "\n",
      "\n",
      "t:  92%|█████████████████████████████████████████████████████████████▍     | 275/300 [03:29<00:17,  1.39it/s, now=None]\u001b[A\u001b[A\u001b[A\u001b[A\u001b[A"
     ]
    },
    {
     "name": "stdout",
     "output_type": "stream",
     "text": [
      "3556\n",
      "3556\n"
     ]
    },
    {
     "name": "stderr",
     "output_type": "stream",
     "text": [
      "\n",
      "\n",
      "\n",
      "\n",
      "\n",
      "t:  92%|█████████████████████████████████████████████████████████████▋     | 276/300 [03:29<00:16,  1.45it/s, now=None]\u001b[A\u001b[A\u001b[A\u001b[A\u001b[A"
     ]
    },
    {
     "name": "stdout",
     "output_type": "stream",
     "text": [
      "3359\n",
      "3359\n",
      "3251\n",
      "3251\n"
     ]
    },
    {
     "name": "stderr",
     "output_type": "stream",
     "text": [
      "\n",
      "\n",
      "\n",
      "\n",
      "\n",
      "t:  92%|█████████████████████████████████████████████████████████████▊     | 277/300 [03:30<00:16,  1.42it/s, now=None]\u001b[A\u001b[A\u001b[A\u001b[A\u001b[A"
     ]
    },
    {
     "name": "stdout",
     "output_type": "stream",
     "text": [
      "3092\n",
      "3092\n"
     ]
    },
    {
     "name": "stderr",
     "output_type": "stream",
     "text": [
      "\n",
      "\n",
      "\n",
      "\n",
      "\n",
      "t:  93%|██████████████████████████████████████████████████████████████     | 278/300 [03:31<00:17,  1.28it/s, now=None]\u001b[A\u001b[A\u001b[A\u001b[A\u001b[A"
     ]
    },
    {
     "name": "stdout",
     "output_type": "stream",
     "text": [
      "3195\n",
      "3195\n"
     ]
    },
    {
     "name": "stderr",
     "output_type": "stream",
     "text": [
      "\n",
      "\n",
      "\n",
      "\n",
      "\n",
      "t:  93%|██████████████████████████████████████████████████████████████▎    | 279/300 [03:32<00:19,  1.10it/s, now=None]\u001b[A\u001b[A\u001b[A\u001b[A\u001b[A"
     ]
    },
    {
     "name": "stdout",
     "output_type": "stream",
     "text": [
      "3095\n",
      "3095\n"
     ]
    },
    {
     "name": "stderr",
     "output_type": "stream",
     "text": [
      "\n",
      "\n",
      "\n",
      "\n",
      "\n",
      "t:  93%|██████████████████████████████████████████████████████████████▌    | 280/300 [03:33<00:18,  1.08it/s, now=None]\u001b[A\u001b[A\u001b[A\u001b[A\u001b[A"
     ]
    },
    {
     "name": "stdout",
     "output_type": "stream",
     "text": [
      "3097\n",
      "3097\n"
     ]
    },
    {
     "name": "stderr",
     "output_type": "stream",
     "text": [
      "\n",
      "\n",
      "\n",
      "\n",
      "\n",
      "t:  94%|██████████████████████████████████████████████████████████████▊    | 281/300 [03:34<00:17,  1.07it/s, now=None]\u001b[A\u001b[A\u001b[A\u001b[A\u001b[A\n",
      "\n",
      "\n",
      "\n",
      "\n",
      "t:  94%|██████████████████████████████████████████████████████████████▉    | 282/300 [03:35<00:16,  1.09it/s, now=None]"
     ]
    },
    {
     "name": "stdout",
     "output_type": "stream",
     "text": [
      "3104\n",
      "3104\n"
     ]
    },
    {
     "name": "stderr",
     "output_type": "stream",
     "text": [
      "\u001b[A\u001b[A\u001b[A\u001b[A\u001b[A\n",
      "\n",
      "\n",
      "\n",
      "\n"
     ]
    },
    {
     "name": "stdout",
     "output_type": "stream",
     "text": [
      "3245\n",
      "3245\n"
     ]
    },
    {
     "name": "stderr",
     "output_type": "stream",
     "text": [
      "t:  94%|███████████████████████████████████████████████████████████████▏   | 283/300 [03:36<00:15,  1.08it/s, now=None]\u001b[A\u001b[A\u001b[A\u001b[A\u001b[A\n",
      "\n",
      "\n",
      "\n",
      "\n"
     ]
    },
    {
     "name": "stdout",
     "output_type": "stream",
     "text": [
      "2834\n",
      "2834\n"
     ]
    },
    {
     "name": "stderr",
     "output_type": "stream",
     "text": [
      "t:  95%|███████████████████████████████████████████████████████████████▍   | 284/300 [03:37<00:14,  1.10it/s, now=None]\u001b[A\u001b[A\u001b[A\u001b[A\u001b[A\n",
      "\n",
      "\n",
      "\n",
      "\n",
      "t:  95%|███████████████████████████████████████████████████████████████▋   | 285/300 [03:37<00:12,  1.16it/s, now=None]\u001b[A\u001b[A\u001b[A\u001b[A\u001b[A"
     ]
    },
    {
     "name": "stdout",
     "output_type": "stream",
     "text": [
      "3038\n",
      "3038\n",
      "3017\n",
      "3017\n"
     ]
    },
    {
     "name": "stderr",
     "output_type": "stream",
     "text": [
      "\n",
      "\n",
      "\n",
      "\n",
      "\n",
      "t:  95%|███████████████████████████████████████████████████████████████▊   | 286/300 [03:39<00:12,  1.09it/s, now=None]\u001b[A\u001b[A\u001b[A\u001b[A\u001b[A\n",
      "\n",
      "\n",
      "\n",
      "\n",
      "t:  96%|████████████████████████████████████████████████████████████████   | 287/300 [03:39<00:10,  1.20it/s, now=None]\u001b[A\u001b[A\u001b[A\u001b[A\u001b[A"
     ]
    },
    {
     "name": "stdout",
     "output_type": "stream",
     "text": [
      "2994\n",
      "2994\n"
     ]
    },
    {
     "name": "stderr",
     "output_type": "stream",
     "text": [
      "\n",
      "\n",
      "\n",
      "\n",
      "\n",
      "t:  96%|████████████████████████████████████████████████████████████████▎  | 288/300 [03:40<00:09,  1.30it/s, now=None]\u001b[A\u001b[A\u001b[A\u001b[A\u001b[A"
     ]
    },
    {
     "name": "stdout",
     "output_type": "stream",
     "text": [
      "3170\n",
      "3170\n"
     ]
    },
    {
     "name": "stderr",
     "output_type": "stream",
     "text": [
      "\n",
      "\n",
      "\n",
      "\n",
      "\n",
      "t:  96%|████████████████████████████████████████████████████████████████▌  | 289/300 [03:40<00:08,  1.33it/s, now=None]\u001b[A\u001b[A\u001b[A\u001b[A\u001b[A"
     ]
    },
    {
     "name": "stdout",
     "output_type": "stream",
     "text": [
      "3383\n",
      "3383\n"
     ]
    },
    {
     "name": "stderr",
     "output_type": "stream",
     "text": [
      "\n",
      "\n",
      "\n",
      "\n",
      "\n",
      "t:  97%|████████████████████████████████████████████████████████████████▊  | 290/300 [03:41<00:07,  1.37it/s, now=None]\u001b[A\u001b[A\u001b[A\u001b[A\u001b[A"
     ]
    },
    {
     "name": "stdout",
     "output_type": "stream",
     "text": [
      "3472\n",
      "3472\n"
     ]
    },
    {
     "name": "stderr",
     "output_type": "stream",
     "text": [
      "\n",
      "\n",
      "\n",
      "\n",
      "\n",
      "t:  97%|████████████████████████████████████████████████████████████████▉  | 291/300 [03:42<00:06,  1.43it/s, now=None]\u001b[A\u001b[A\u001b[A\u001b[A\u001b[A"
     ]
    },
    {
     "name": "stdout",
     "output_type": "stream",
     "text": [
      "3124\n",
      "3124\n"
     ]
    },
    {
     "name": "stderr",
     "output_type": "stream",
     "text": [
      "\n",
      "\n",
      "\n",
      "\n",
      "\n",
      "t:  97%|█████████████████████████████████████████████████████████████████▏ | 292/300 [03:42<00:05,  1.52it/s, now=None]\u001b[A\u001b[A\u001b[A\u001b[A\u001b[A"
     ]
    },
    {
     "name": "stdout",
     "output_type": "stream",
     "text": [
      "3101\n",
      "3101\n"
     ]
    },
    {
     "name": "stderr",
     "output_type": "stream",
     "text": [
      "\n",
      "\n",
      "\n",
      "\n",
      "\n",
      "t:  98%|█████████████████████████████████████████████████████████████████▍ | 293/300 [03:43<00:04,  1.58it/s, now=None]\u001b[A\u001b[A\u001b[A\u001b[A\u001b[A"
     ]
    },
    {
     "name": "stdout",
     "output_type": "stream",
     "text": [
      "2969\n",
      "2969\n"
     ]
    },
    {
     "name": "stderr",
     "output_type": "stream",
     "text": [
      "\n",
      "\n",
      "\n",
      "\n",
      "\n",
      "t:  98%|█████████████████████████████████████████████████████████████████▋ | 294/300 [03:44<00:03,  1.60it/s, now=None]\u001b[A\u001b[A\u001b[A\u001b[A\u001b[A"
     ]
    },
    {
     "name": "stdout",
     "output_type": "stream",
     "text": [
      "2908\n",
      "2908\n"
     ]
    },
    {
     "name": "stderr",
     "output_type": "stream",
     "text": [
      "\n",
      "\n",
      "\n",
      "\n",
      "\n",
      "t:  98%|█████████████████████████████████████████████████████████████████▉ | 295/300 [03:44<00:03,  1.63it/s, now=None]\u001b[A\u001b[A\u001b[A\u001b[A\u001b[A"
     ]
    },
    {
     "name": "stdout",
     "output_type": "stream",
     "text": [
      "2894\n",
      "2894\n"
     ]
    },
    {
     "name": "stderr",
     "output_type": "stream",
     "text": [
      "\n",
      "\n",
      "\n",
      "\n",
      "\n",
      "t:  99%|██████████████████████████████████████████████████████████████████ | 296/300 [03:45<00:02,  1.67it/s, now=None]\u001b[A\u001b[A\u001b[A\u001b[A\u001b[A"
     ]
    },
    {
     "name": "stdout",
     "output_type": "stream",
     "text": [
      "2863\n",
      "2863\n"
     ]
    },
    {
     "name": "stderr",
     "output_type": "stream",
     "text": [
      "\n",
      "\n",
      "\n",
      "\n",
      "\n",
      "t:  99%|██████████████████████████████████████████████████████████████████▎| 297/300 [03:45<00:01,  1.67it/s, now=None]\u001b[A\u001b[A\u001b[A\u001b[A\u001b[A"
     ]
    },
    {
     "name": "stdout",
     "output_type": "stream",
     "text": [
      "2873\n",
      "2873\n"
     ]
    },
    {
     "name": "stderr",
     "output_type": "stream",
     "text": [
      "\n",
      "\n",
      "\n",
      "\n",
      "\n",
      "t:  99%|██████████████████████████████████████████████████████████████████▌| 298/300 [03:46<00:01,  1.67it/s, now=None]\u001b[A\u001b[A\u001b[A\u001b[A\u001b[A"
     ]
    },
    {
     "name": "stdout",
     "output_type": "stream",
     "text": [
      "2828\n",
      "2828\n"
     ]
    },
    {
     "name": "stderr",
     "output_type": "stream",
     "text": [
      "\n",
      "\n",
      "\n",
      "\n",
      "\n",
      "t: 100%|██████████████████████████████████████████████████████████████████▊| 299/300 [03:46<00:00,  1.65it/s, now=None]\u001b[A\u001b[A\u001b[A\u001b[A\u001b[A"
     ]
    },
    {
     "name": "stdout",
     "output_type": "stream",
     "text": [
      "2930\n",
      "2930\n"
     ]
    },
    {
     "name": "stderr",
     "output_type": "stream",
     "text": [
      "\n",
      "\n",
      "\n",
      "\n",
      "\n",
      "t: 100%|███████████████████████████████████████████████████████████████████| 300/300 [03:47<00:00,  1.64it/s, now=None]\u001b[A\u001b[A\u001b[A\u001b[A\u001b[A"
     ]
    },
    {
     "name": "stdout",
     "output_type": "stream",
     "text": [
      "3422\n",
      "3422\n"
     ]
    },
    {
     "name": "stderr",
     "output_type": "stream",
     "text": [
      "\n",
      "\n",
      "\n",
      "\n",
      "\n",
      "                                                                                                                       \u001b[A\u001b[A\u001b[A\u001b[A\u001b[A"
     ]
    },
    {
     "name": "stdout",
     "output_type": "stream",
     "text": [
      "3320\n",
      "3320\n"
     ]
    },
    {
     "name": "stderr",
     "output_type": "stream",
     "text": [
      "\n",
      "\n",
      "\u001b[A\u001b[A                                                                                                                 \n",
      "\n",
      "\n",
      "\n",
      "\u001b[A\u001b[A\u001b[A\u001b[A                                                                                                           \n",
      "                                                                                                                       \n",
      "\n",
      "\n",
      "\u001b[A\u001b[A\u001b[A                                                                                                              \n",
      "\n",
      "t:   4%|██▍                                                                 | 11/300 [26:36<04:15,  1.13it/s, now=None]\u001b[A\u001b[A\n",
      "\n",
      "\n",
      "\n",
      "t:   1%|▉                                                                    | 4/300 [17:57<03:20,  1.48it/s, now=None]\u001b[A\u001b[A\u001b[A\u001b[A\n",
      "t:   4%|██▍                                                                 | 11/300 [29:38<03:19,  1.45it/s, now=None]\u001b[A\n",
      "\n",
      "\n",
      "t:   1%|▉                                                                    | 4/300 [18:36<03:41,  1.34it/s, now=None]\u001b[A\u001b[A\u001b[A\n",
      "\n",
      "\u001b[A\u001b[A                                                                                                                 \n",
      "\n",
      "\n",
      "\n",
      "\u001b[A\u001b[A\u001b[A\u001b[A                                                                                                           \n",
      "                                                                                                                       \n",
      "\n",
      "\n",
      "\u001b[A\u001b[A\u001b[A                                                                                                              \n",
      "\n",
      "t:   4%|██▍                                                                 | 11/300 [26:36<04:15,  1.13it/s, now=None]\u001b[A\u001b[A\n",
      "\n",
      "\n",
      "\n",
      "t:   1%|▉                                                                    | 4/300 [17:57<03:20,  1.48it/s, now=None]\u001b[A\u001b[A\u001b[A\u001b[A\n",
      "t:   4%|██▍                                                                 | 11/300 [29:38<03:19,  1.45it/s, now=None]\u001b[A\n",
      "\n",
      "\n",
      "t:   1%|▉                                                                    | 4/300 [18:36<03:41,  1.34it/s, now=None]\u001b[A\u001b[A\u001b[A"
     ]
    },
    {
     "name": "stdout",
     "output_type": "stream",
     "text": [
      "Moviepy - Done !\n",
      "Moviepy - video ready ./output/challenge_output_1.mp4\n"
     ]
    }
   ],
   "source": [
    "right_curves, left_curves = [],[]\n",
    "from moviepy.editor import VideoFileClip, clips_array\n",
    "\n",
    "myclip = VideoFileClip('./input/challenge_video.mp4').subclip(0,10)\n",
    "output_vid = './output/challenge_output_1.mp4'\n",
    "clip = myclip.fl_image(full_pipeline)\n",
    "\n",
    "clip.write_videofile(output_vid, audio=False)"
   ]
  },
  {
   "cell_type": "code",
   "execution_count": null,
   "id": "7f17b231",
   "metadata": {},
   "outputs": [],
   "source": []
  }
 ],
 "metadata": {
  "kernelspec": {
   "display_name": "Python 3 (ipykernel)",
   "language": "python",
   "name": "python3"
  },
  "language_info": {
   "codemirror_mode": {
    "name": "ipython",
    "version": 3
   },
   "file_extension": ".py",
   "mimetype": "text/x-python",
   "name": "python",
   "nbconvert_exporter": "python",
   "pygments_lexer": "ipython3",
   "version": "3.9.1"
  }
 },
 "nbformat": 4,
 "nbformat_minor": 5
}
